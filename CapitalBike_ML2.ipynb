{
 "cells": [
  {
   "cell_type": "code",
   "execution_count": 52,
   "metadata": {},
   "outputs": [],
   "source": [
    "import numpy as np\n",
    "import pandas as pd\n",
    "import matplotlib.pyplot as plt\n",
    "import seaborn as sns\n",
    "import glob\n",
    "import folium\n",
    "from folium import plugins\n",
    "import ipywidgets\n",
    "import geocoder\n",
    "import geopy\n",
    "\n",
    "# Sklearn\n",
    "from sklearn.metrics import accuracy_score,confusion_matrix,classification_report\n",
    "from sklearn.preprocessing import OneHotEncoder\n",
    "from sklearn.preprocessing import LabelEncoder\n",
    "from sklearn.model_selection import train_test_split\n",
    "from sklearn import datasets\n",
    "from sklearn import svm\n",
    "from sklearn.preprocessing import MinMaxScaler\n",
    "from sklearn.linear_model import LinearRegression\n",
    "from sklearn.model_selection import KFold,StratifiedKFold\n",
    "\n",
    "\n",
    "\n"
   ]
  },
  {
   "cell_type": "code",
   "execution_count": 2,
   "metadata": {},
   "outputs": [],
   "source": [
    "day=pd.read_csv(\"/./Users/Yanaorfin/Documents/Academy/CapitalBikeShare/DataSet/Bike-Sharing-Dataset/day.csv\",parse_dates=[\"dteday\"])\n",
    "hour=pd.read_csv(\"/./Users/Yanaorfin/Documents/Academy/CapitalBikeShare/DataSet/Bike-Sharing-Dataset/hour.csv\",parse_dates=[\"dteday\"])\n",
    "trips_2011=pd.read_csv(\"/./Users/Yanaorfin/Documents/Academy/CapitalBikeShare/DataSet/2011-capitalbikeshare-tripdata.csv\",parse_dates=[\"Start date\",\"End date\"])\n",
    "station_loc=pd.read_csv(\"/./Users/Yanaorfin/Documents/Academy/CapitalBikeShare/DataSet/Capital_Bike_Share_Locations_updated2.csv\",delimiter=\";\")"
   ]
  },
  {
   "cell_type": "code",
   "execution_count": 3,
   "metadata": {},
   "outputs": [],
   "source": [
    "station_loc=station_loc.iloc[:,0:9]"
   ]
  },
  {
   "cell_type": "code",
   "execution_count": 4,
   "metadata": {},
   "outputs": [
    {
     "name": "stdout",
     "output_type": "stream",
     "text": [
      "<class 'pandas.core.frame.DataFrame'>\n",
      "RangeIndex: 695 entries, 0 to 694\n",
      "Data columns (total 9 columns):\n",
      " #   Column          Non-Null Count  Dtype  \n",
      "---  ------          --------------  -----  \n",
      " 0   X               695 non-null    float64\n",
      " 1   Y               695 non-null    float64\n",
      " 2   OBJECTID        690 non-null    float64\n",
      " 3   LATITUDE        695 non-null    float64\n",
      " 4   LONGITUDE       695 non-null    float64\n",
      " 5   NAME            695 non-null    object \n",
      " 6   STATION_TYPE    695 non-null    object \n",
      " 7   STATION_ID      690 non-null    float64\n",
      " 8   STATION_STATUS  690 non-null    object \n",
      "dtypes: float64(6), object(3)\n",
      "memory usage: 49.0+ KB\n"
     ]
    }
   ],
   "source": [
    "station_loc.info()"
   ]
  },
  {
   "cell_type": "code",
   "execution_count": 5,
   "metadata": {},
   "outputs": [],
   "source": [
    "# Bike trips 2012\n",
    "files_2012=glob.glob(\"/Users/Yanaorfin/Documents/Academy/CapitalBikeShare/DataSet/2012-capitalbikeshare-tripdata/*.csv\")\n",
    "trips_2012=pd.DataFrame()\n",
    "for file in files_2012:\n",
    "    data=pd.read_csv(file,parse_dates=[\"Start date\",\"End date\"])\n",
    "    data[\"filename\"]=file\n",
    "    trips_2012=pd.concat([trips_2012,data])\n"
   ]
  },
  {
   "cell_type": "code",
   "execution_count": 6,
   "metadata": {},
   "outputs": [
    {
     "name": "stderr",
     "output_type": "stream",
     "text": [
      "/var/folders/bn/ghpvp69d0vd0t7sb_kbnxzqw0000gn/T/ipykernel_88467/2382772095.py:1: FutureWarning: The frame.append method is deprecated and will be removed from pandas in a future version. Use pandas.concat instead.\n",
      "  trips=trips_2011.append(trips_2012)\n"
     ]
    }
   ],
   "source": [
    "trips=trips_2011.append(trips_2012)"
   ]
  },
  {
   "cell_type": "code",
   "execution_count": 7,
   "metadata": {},
   "outputs": [
    {
     "data": {
      "text/plain": [
       "(3255678, 10)"
      ]
     },
     "execution_count": 7,
     "metadata": {},
     "output_type": "execute_result"
    }
   ],
   "source": [
    "trips.shape"
   ]
  },
  {
   "cell_type": "code",
   "execution_count": 8,
   "metadata": {},
   "outputs": [
    {
     "data": {
      "text/plain": [
       "(731, 16)"
      ]
     },
     "execution_count": 8,
     "metadata": {},
     "output_type": "execute_result"
    }
   ],
   "source": [
    "day.shape"
   ]
  },
  {
   "cell_type": "code",
   "execution_count": 9,
   "metadata": {},
   "outputs": [
    {
     "name": "stdout",
     "output_type": "stream",
     "text": [
      "<class 'pandas.core.frame.DataFrame'>\n",
      "RangeIndex: 731 entries, 0 to 730\n",
      "Data columns (total 16 columns):\n",
      " #   Column      Non-Null Count  Dtype         \n",
      "---  ------      --------------  -----         \n",
      " 0   instant     731 non-null    int64         \n",
      " 1   dteday      731 non-null    datetime64[ns]\n",
      " 2   season      731 non-null    int64         \n",
      " 3   yr          731 non-null    int64         \n",
      " 4   mnth        731 non-null    int64         \n",
      " 5   holiday     731 non-null    int64         \n",
      " 6   weekday     731 non-null    int64         \n",
      " 7   workingday  731 non-null    int64         \n",
      " 8   weathersit  731 non-null    int64         \n",
      " 9   temp        731 non-null    float64       \n",
      " 10  atemp       731 non-null    float64       \n",
      " 11  hum         731 non-null    float64       \n",
      " 12  windspeed   731 non-null    float64       \n",
      " 13  casual      731 non-null    int64         \n",
      " 14  registered  731 non-null    int64         \n",
      " 15  cnt         731 non-null    int64         \n",
      "dtypes: datetime64[ns](1), float64(4), int64(11)\n",
      "memory usage: 91.5 KB\n"
     ]
    },
    {
     "data": {
      "text/html": [
       "<div>\n",
       "<style scoped>\n",
       "    .dataframe tbody tr th:only-of-type {\n",
       "        vertical-align: middle;\n",
       "    }\n",
       "\n",
       "    .dataframe tbody tr th {\n",
       "        vertical-align: top;\n",
       "    }\n",
       "\n",
       "    .dataframe thead th {\n",
       "        text-align: right;\n",
       "    }\n",
       "</style>\n",
       "<table border=\"1\" class=\"dataframe\">\n",
       "  <thead>\n",
       "    <tr style=\"text-align: right;\">\n",
       "      <th></th>\n",
       "      <th>instant</th>\n",
       "      <th>dteday</th>\n",
       "      <th>season</th>\n",
       "      <th>yr</th>\n",
       "      <th>mnth</th>\n",
       "      <th>holiday</th>\n",
       "      <th>weekday</th>\n",
       "      <th>workingday</th>\n",
       "      <th>weathersit</th>\n",
       "      <th>temp</th>\n",
       "      <th>atemp</th>\n",
       "      <th>hum</th>\n",
       "      <th>windspeed</th>\n",
       "      <th>casual</th>\n",
       "      <th>registered</th>\n",
       "      <th>cnt</th>\n",
       "    </tr>\n",
       "  </thead>\n",
       "  <tbody>\n",
       "    <tr>\n",
       "      <th>0</th>\n",
       "      <td>1</td>\n",
       "      <td>2011-01-01</td>\n",
       "      <td>1</td>\n",
       "      <td>0</td>\n",
       "      <td>1</td>\n",
       "      <td>0</td>\n",
       "      <td>6</td>\n",
       "      <td>0</td>\n",
       "      <td>2</td>\n",
       "      <td>0.344167</td>\n",
       "      <td>0.363625</td>\n",
       "      <td>0.805833</td>\n",
       "      <td>0.160446</td>\n",
       "      <td>331</td>\n",
       "      <td>654</td>\n",
       "      <td>985</td>\n",
       "    </tr>\n",
       "    <tr>\n",
       "      <th>1</th>\n",
       "      <td>2</td>\n",
       "      <td>2011-01-02</td>\n",
       "      <td>1</td>\n",
       "      <td>0</td>\n",
       "      <td>1</td>\n",
       "      <td>0</td>\n",
       "      <td>0</td>\n",
       "      <td>0</td>\n",
       "      <td>2</td>\n",
       "      <td>0.363478</td>\n",
       "      <td>0.353739</td>\n",
       "      <td>0.696087</td>\n",
       "      <td>0.248539</td>\n",
       "      <td>131</td>\n",
       "      <td>670</td>\n",
       "      <td>801</td>\n",
       "    </tr>\n",
       "    <tr>\n",
       "      <th>2</th>\n",
       "      <td>3</td>\n",
       "      <td>2011-01-03</td>\n",
       "      <td>1</td>\n",
       "      <td>0</td>\n",
       "      <td>1</td>\n",
       "      <td>0</td>\n",
       "      <td>1</td>\n",
       "      <td>1</td>\n",
       "      <td>1</td>\n",
       "      <td>0.196364</td>\n",
       "      <td>0.189405</td>\n",
       "      <td>0.437273</td>\n",
       "      <td>0.248309</td>\n",
       "      <td>120</td>\n",
       "      <td>1229</td>\n",
       "      <td>1349</td>\n",
       "    </tr>\n",
       "    <tr>\n",
       "      <th>3</th>\n",
       "      <td>4</td>\n",
       "      <td>2011-01-04</td>\n",
       "      <td>1</td>\n",
       "      <td>0</td>\n",
       "      <td>1</td>\n",
       "      <td>0</td>\n",
       "      <td>2</td>\n",
       "      <td>1</td>\n",
       "      <td>1</td>\n",
       "      <td>0.200000</td>\n",
       "      <td>0.212122</td>\n",
       "      <td>0.590435</td>\n",
       "      <td>0.160296</td>\n",
       "      <td>108</td>\n",
       "      <td>1454</td>\n",
       "      <td>1562</td>\n",
       "    </tr>\n",
       "    <tr>\n",
       "      <th>4</th>\n",
       "      <td>5</td>\n",
       "      <td>2011-01-05</td>\n",
       "      <td>1</td>\n",
       "      <td>0</td>\n",
       "      <td>1</td>\n",
       "      <td>0</td>\n",
       "      <td>3</td>\n",
       "      <td>1</td>\n",
       "      <td>1</td>\n",
       "      <td>0.226957</td>\n",
       "      <td>0.229270</td>\n",
       "      <td>0.436957</td>\n",
       "      <td>0.186900</td>\n",
       "      <td>82</td>\n",
       "      <td>1518</td>\n",
       "      <td>1600</td>\n",
       "    </tr>\n",
       "  </tbody>\n",
       "</table>\n",
       "</div>"
      ],
      "text/plain": [
       "   instant     dteday  season  yr  mnth  holiday  weekday  workingday  \\\n",
       "0        1 2011-01-01       1   0     1        0        6           0   \n",
       "1        2 2011-01-02       1   0     1        0        0           0   \n",
       "2        3 2011-01-03       1   0     1        0        1           1   \n",
       "3        4 2011-01-04       1   0     1        0        2           1   \n",
       "4        5 2011-01-05       1   0     1        0        3           1   \n",
       "\n",
       "   weathersit      temp     atemp       hum  windspeed  casual  registered  \\\n",
       "0           2  0.344167  0.363625  0.805833   0.160446     331         654   \n",
       "1           2  0.363478  0.353739  0.696087   0.248539     131         670   \n",
       "2           1  0.196364  0.189405  0.437273   0.248309     120        1229   \n",
       "3           1  0.200000  0.212122  0.590435   0.160296     108        1454   \n",
       "4           1  0.226957  0.229270  0.436957   0.186900      82        1518   \n",
       "\n",
       "    cnt  \n",
       "0   985  \n",
       "1   801  \n",
       "2  1349  \n",
       "3  1562  \n",
       "4  1600  "
      ]
     },
     "execution_count": 9,
     "metadata": {},
     "output_type": "execute_result"
    }
   ],
   "source": [
    "day.info()\n",
    "day.head(5)"
   ]
  },
  {
   "cell_type": "code",
   "execution_count": 10,
   "metadata": {},
   "outputs": [
    {
     "data": {
      "text/plain": [
       "(17379, 17)"
      ]
     },
     "execution_count": 10,
     "metadata": {},
     "output_type": "execute_result"
    }
   ],
   "source": [
    "hour.shape"
   ]
  },
  {
   "cell_type": "code",
   "execution_count": 11,
   "metadata": {},
   "outputs": [
    {
     "name": "stdout",
     "output_type": "stream",
     "text": [
      "<class 'pandas.core.frame.DataFrame'>\n",
      "RangeIndex: 17379 entries, 0 to 17378\n",
      "Data columns (total 17 columns):\n",
      " #   Column      Non-Null Count  Dtype         \n",
      "---  ------      --------------  -----         \n",
      " 0   instant     17379 non-null  int64         \n",
      " 1   dteday      17379 non-null  datetime64[ns]\n",
      " 2   season      17379 non-null  int64         \n",
      " 3   yr          17379 non-null  int64         \n",
      " 4   mnth        17379 non-null  int64         \n",
      " 5   hr          17379 non-null  int64         \n",
      " 6   holiday     17379 non-null  int64         \n",
      " 7   weekday     17379 non-null  int64         \n",
      " 8   workingday  17379 non-null  int64         \n",
      " 9   weathersit  17379 non-null  int64         \n",
      " 10  temp        17379 non-null  float64       \n",
      " 11  atemp       17379 non-null  float64       \n",
      " 12  hum         17379 non-null  float64       \n",
      " 13  windspeed   17379 non-null  float64       \n",
      " 14  casual      17379 non-null  int64         \n",
      " 15  registered  17379 non-null  int64         \n",
      " 16  cnt         17379 non-null  int64         \n",
      "dtypes: datetime64[ns](1), float64(4), int64(12)\n",
      "memory usage: 2.3 MB\n"
     ]
    },
    {
     "data": {
      "text/html": [
       "<div>\n",
       "<style scoped>\n",
       "    .dataframe tbody tr th:only-of-type {\n",
       "        vertical-align: middle;\n",
       "    }\n",
       "\n",
       "    .dataframe tbody tr th {\n",
       "        vertical-align: top;\n",
       "    }\n",
       "\n",
       "    .dataframe thead th {\n",
       "        text-align: right;\n",
       "    }\n",
       "</style>\n",
       "<table border=\"1\" class=\"dataframe\">\n",
       "  <thead>\n",
       "    <tr style=\"text-align: right;\">\n",
       "      <th></th>\n",
       "      <th>instant</th>\n",
       "      <th>dteday</th>\n",
       "      <th>season</th>\n",
       "      <th>yr</th>\n",
       "      <th>mnth</th>\n",
       "      <th>hr</th>\n",
       "      <th>holiday</th>\n",
       "      <th>weekday</th>\n",
       "      <th>workingday</th>\n",
       "      <th>weathersit</th>\n",
       "      <th>temp</th>\n",
       "      <th>atemp</th>\n",
       "      <th>hum</th>\n",
       "      <th>windspeed</th>\n",
       "      <th>casual</th>\n",
       "      <th>registered</th>\n",
       "      <th>cnt</th>\n",
       "    </tr>\n",
       "  </thead>\n",
       "  <tbody>\n",
       "    <tr>\n",
       "      <th>0</th>\n",
       "      <td>1</td>\n",
       "      <td>2011-01-01</td>\n",
       "      <td>1</td>\n",
       "      <td>0</td>\n",
       "      <td>1</td>\n",
       "      <td>0</td>\n",
       "      <td>0</td>\n",
       "      <td>6</td>\n",
       "      <td>0</td>\n",
       "      <td>1</td>\n",
       "      <td>0.24</td>\n",
       "      <td>0.2879</td>\n",
       "      <td>0.81</td>\n",
       "      <td>0.0</td>\n",
       "      <td>3</td>\n",
       "      <td>13</td>\n",
       "      <td>16</td>\n",
       "    </tr>\n",
       "    <tr>\n",
       "      <th>1</th>\n",
       "      <td>2</td>\n",
       "      <td>2011-01-01</td>\n",
       "      <td>1</td>\n",
       "      <td>0</td>\n",
       "      <td>1</td>\n",
       "      <td>1</td>\n",
       "      <td>0</td>\n",
       "      <td>6</td>\n",
       "      <td>0</td>\n",
       "      <td>1</td>\n",
       "      <td>0.22</td>\n",
       "      <td>0.2727</td>\n",
       "      <td>0.80</td>\n",
       "      <td>0.0</td>\n",
       "      <td>8</td>\n",
       "      <td>32</td>\n",
       "      <td>40</td>\n",
       "    </tr>\n",
       "    <tr>\n",
       "      <th>2</th>\n",
       "      <td>3</td>\n",
       "      <td>2011-01-01</td>\n",
       "      <td>1</td>\n",
       "      <td>0</td>\n",
       "      <td>1</td>\n",
       "      <td>2</td>\n",
       "      <td>0</td>\n",
       "      <td>6</td>\n",
       "      <td>0</td>\n",
       "      <td>1</td>\n",
       "      <td>0.22</td>\n",
       "      <td>0.2727</td>\n",
       "      <td>0.80</td>\n",
       "      <td>0.0</td>\n",
       "      <td>5</td>\n",
       "      <td>27</td>\n",
       "      <td>32</td>\n",
       "    </tr>\n",
       "    <tr>\n",
       "      <th>3</th>\n",
       "      <td>4</td>\n",
       "      <td>2011-01-01</td>\n",
       "      <td>1</td>\n",
       "      <td>0</td>\n",
       "      <td>1</td>\n",
       "      <td>3</td>\n",
       "      <td>0</td>\n",
       "      <td>6</td>\n",
       "      <td>0</td>\n",
       "      <td>1</td>\n",
       "      <td>0.24</td>\n",
       "      <td>0.2879</td>\n",
       "      <td>0.75</td>\n",
       "      <td>0.0</td>\n",
       "      <td>3</td>\n",
       "      <td>10</td>\n",
       "      <td>13</td>\n",
       "    </tr>\n",
       "    <tr>\n",
       "      <th>4</th>\n",
       "      <td>5</td>\n",
       "      <td>2011-01-01</td>\n",
       "      <td>1</td>\n",
       "      <td>0</td>\n",
       "      <td>1</td>\n",
       "      <td>4</td>\n",
       "      <td>0</td>\n",
       "      <td>6</td>\n",
       "      <td>0</td>\n",
       "      <td>1</td>\n",
       "      <td>0.24</td>\n",
       "      <td>0.2879</td>\n",
       "      <td>0.75</td>\n",
       "      <td>0.0</td>\n",
       "      <td>0</td>\n",
       "      <td>1</td>\n",
       "      <td>1</td>\n",
       "    </tr>\n",
       "  </tbody>\n",
       "</table>\n",
       "</div>"
      ],
      "text/plain": [
       "   instant     dteday  season  yr  mnth  hr  holiday  weekday  workingday  \\\n",
       "0        1 2011-01-01       1   0     1   0        0        6           0   \n",
       "1        2 2011-01-01       1   0     1   1        0        6           0   \n",
       "2        3 2011-01-01       1   0     1   2        0        6           0   \n",
       "3        4 2011-01-01       1   0     1   3        0        6           0   \n",
       "4        5 2011-01-01       1   0     1   4        0        6           0   \n",
       "\n",
       "   weathersit  temp   atemp   hum  windspeed  casual  registered  cnt  \n",
       "0           1  0.24  0.2879  0.81        0.0       3          13   16  \n",
       "1           1  0.22  0.2727  0.80        0.0       8          32   40  \n",
       "2           1  0.22  0.2727  0.80        0.0       5          27   32  \n",
       "3           1  0.24  0.2879  0.75        0.0       3          10   13  \n",
       "4           1  0.24  0.2879  0.75        0.0       0           1    1  "
      ]
     },
     "execution_count": 11,
     "metadata": {},
     "output_type": "execute_result"
    }
   ],
   "source": [
    "hour.info()\n",
    "hour.head(5)"
   ]
  },
  {
   "cell_type": "code",
   "execution_count": 12,
   "metadata": {},
   "outputs": [
    {
     "data": {
      "text/plain": [
       "instant       0\n",
       "dteday        0\n",
       "season        0\n",
       "yr            0\n",
       "mnth          0\n",
       "hr            0\n",
       "holiday       0\n",
       "weekday       0\n",
       "workingday    0\n",
       "weathersit    0\n",
       "temp          0\n",
       "atemp         0\n",
       "hum           0\n",
       "windspeed     0\n",
       "casual        0\n",
       "registered    0\n",
       "cnt           0\n",
       "dtype: int64"
      ]
     },
     "execution_count": 12,
     "metadata": {},
     "output_type": "execute_result"
    }
   ],
   "source": [
    "hour.isna().sum()"
   ]
  },
  {
   "cell_type": "code",
   "execution_count": 13,
   "metadata": {},
   "outputs": [
    {
     "data": {
      "text/plain": [
       "instant       0\n",
       "dteday        0\n",
       "season        0\n",
       "yr            0\n",
       "mnth          0\n",
       "hr            0\n",
       "holiday       0\n",
       "weekday       0\n",
       "workingday    0\n",
       "weathersit    0\n",
       "temp          0\n",
       "atemp         0\n",
       "hum           0\n",
       "windspeed     0\n",
       "casual        0\n",
       "registered    0\n",
       "cnt           0\n",
       "dtype: int64"
      ]
     },
     "execution_count": 13,
     "metadata": {},
     "output_type": "execute_result"
    }
   ],
   "source": [
    "hour.isnull().sum()"
   ]
  },
  {
   "cell_type": "code",
   "execution_count": 14,
   "metadata": {},
   "outputs": [],
   "source": [
    "hour.loc[hour[\"season\"]==1,\"season\"]=\"Winter\"\n",
    "hour.loc[hour[\"season\"]==2,\"season\"]=\"Spring\"\n",
    "hour.loc[hour[\"season\"]==3,\"season\"]=\"Summer\"\n",
    "hour.loc[hour[\"season\"]==4,\"season\"]=\"Fall\"\n",
    "\n",
    "day.loc[day[\"season\"]==1,\"season\"]=\"Winter\"\n",
    "day.loc[day[\"season\"]==2,\"season\"]=\"Spring\"\n",
    "day.loc[day[\"season\"]==3,\"season\"]=\"Summer\"\n",
    "day.loc[day[\"season\"]==4,\"season\"]=\"Fall\"\n"
   ]
  },
  {
   "cell_type": "code",
   "execution_count": 15,
   "metadata": {},
   "outputs": [
    {
     "name": "stdout",
     "output_type": "stream",
     "text": [
      "<class 'pandas.core.frame.DataFrame'>\n",
      "Int64Index: 3255678 entries, 0 to 566831\n",
      "Data columns (total 10 columns):\n",
      " #   Column                Dtype         \n",
      "---  ------                -----         \n",
      " 0   Duration              int64         \n",
      " 1   Start date            datetime64[ns]\n",
      " 2   End date              datetime64[ns]\n",
      " 3   Start station number  int64         \n",
      " 4   Start station         object        \n",
      " 5   End station number    int64         \n",
      " 6   End station           object        \n",
      " 7   Bike number           object        \n",
      " 8   Member type           object        \n",
      " 9   filename              object        \n",
      "dtypes: datetime64[ns](2), int64(3), object(5)\n",
      "memory usage: 273.2+ MB\n"
     ]
    }
   ],
   "source": [
    "trips.info()"
   ]
  },
  {
   "cell_type": "code",
   "execution_count": 16,
   "metadata": {},
   "outputs": [
    {
     "data": {
      "text/plain": [
       "Duration                      0\n",
       "Start date                    0\n",
       "End date                      0\n",
       "Start station number          0\n",
       "Start station                 0\n",
       "End station number            0\n",
       "End station                   0\n",
       "Bike number                   0\n",
       "Member type                   0\n",
       "filename                1226767\n",
       "dtype: int64"
      ]
     },
     "execution_count": 16,
     "metadata": {},
     "output_type": "execute_result"
    }
   ],
   "source": [
    "trips.isna().sum()"
   ]
  },
  {
   "cell_type": "code",
   "execution_count": 17,
   "metadata": {},
   "outputs": [
    {
     "data": {
      "text/plain": [
       "Duration                      0\n",
       "Start date                    0\n",
       "End date                      0\n",
       "Start station number          0\n",
       "Start station                 0\n",
       "End station number            0\n",
       "End station                   0\n",
       "Bike number                   0\n",
       "Member type                   0\n",
       "filename                1226767\n",
       "dtype: int64"
      ]
     },
     "execution_count": 17,
     "metadata": {},
     "output_type": "execute_result"
    }
   ],
   "source": [
    "trips.isnull().sum()"
   ]
  },
  {
   "cell_type": "code",
   "execution_count": 18,
   "metadata": {},
   "outputs": [],
   "source": [
    "trips.drop(columns=[\"filename\"],inplace=True)\n"
   ]
  },
  {
   "cell_type": "markdown",
   "metadata": {},
   "source": [
    "DATE TIME"
   ]
  },
  {
   "cell_type": "code",
   "execution_count": 19,
   "metadata": {},
   "outputs": [
    {
     "data": {
      "text/plain": [
       "0       2011-01-01\n",
       "1       2011-01-01\n",
       "2       2011-01-01\n",
       "3       2011-01-01\n",
       "4       2011-01-01\n",
       "           ...    \n",
       "17374   2012-12-31\n",
       "17375   2012-12-31\n",
       "17376   2012-12-31\n",
       "17377   2012-12-31\n",
       "17378   2012-12-31\n",
       "Name: dteday, Length: 17379, dtype: datetime64[ns]"
      ]
     },
     "execution_count": 19,
     "metadata": {},
     "output_type": "execute_result"
    }
   ],
   "source": [
    "pd.to_datetime(hour[\"dteday\"])"
   ]
  },
  {
   "cell_type": "code",
   "execution_count": 20,
   "metadata": {},
   "outputs": [
    {
     "data": {
      "text/plain": [
       "0        2011-01-01 01:00:37\n",
       "1        2011-01-01 00:08:32\n",
       "2        2011-01-01 00:15:36\n",
       "3        2011-01-01 00:16:36\n",
       "4        2011-01-01 00:32:19\n",
       "                 ...        \n",
       "566827   2012-07-01 00:00:52\n",
       "566828   2012-07-01 00:21:18\n",
       "566829   2012-07-01 00:06:19\n",
       "566830   2012-07-01 00:15:21\n",
       "566831   2012-07-01 00:10:18\n",
       "Name: End date, Length: 3255678, dtype: datetime64[ns]"
      ]
     },
     "execution_count": 20,
     "metadata": {},
     "output_type": "execute_result"
    }
   ],
   "source": [
    "pd.to_datetime(trips[\"Start date\"])\n",
    "pd.to_datetime(trips[\"End date\"])"
   ]
  },
  {
   "cell_type": "code",
   "execution_count": 21,
   "metadata": {},
   "outputs": [],
   "source": [
    "trips[\"mnth\"]=pd.DatetimeIndex(trips[\"Start date\"]).month\n",
    "trips[\"weekday\"]=pd.DatetimeIndex(trips[\"Start date\"]).weekday\n",
    "trips[\"dteday\"]=pd.DatetimeIndex(trips[\"Start date\"]).date\n",
    "trips[\"hour\"]=trips[\"Start date\"].dt.hour\n"
   ]
  },
  {
   "cell_type": "code",
   "execution_count": 22,
   "metadata": {},
   "outputs": [],
   "source": [
    "# Day time\n",
    "# Trips data set\n",
    "trips[\"day_time\"]=trips[\"hour\"]\n",
    "\n",
    "trips[\"day_time\"]=np.where((trips[\"hour\"]>=0)&(trips[\"hour\"]<5),\"Night\",trips[\"day_time\"])\n",
    "trips[\"day_time\"]=np.where((trips[\"hour\"]>=5)&(trips[\"hour\"]<7),\"Early morning\",trips[\"day_time\"])\n",
    "trips[\"day_time\"]=np.where((trips[\"hour\"]>=7)&(trips[\"hour\"]<12),\"Morning\",trips[\"day_time\"])\n",
    "trips[\"day_time\"]=np.where((trips[\"hour\"]>=12)&(trips[\"hour\"]<17),\"Afternoon\",trips[\"day_time\"])\n",
    "trips[\"day_time\"]=np.where((trips[\"hour\"]>=17)&(trips[\"hour\"]<21),\"Evening\",trips[\"day_time\"])\n",
    "trips[\"day_time\"]=np.where((trips[\"hour\"]>=21)&(trips[\"hour\"]<24),\"Night\",trips[\"day_time\"])\n",
    "\n",
    "\n",
    "# Hour data set\n",
    "\n",
    "hour[\"day_time\"]=hour[\"hr\"]\n",
    "\n",
    "hour[\"day_time\"]=np.where((hour[\"hr\"]>=0)&(hour[\"hr\"]<5),\"Night\",hour[\"day_time\"])\n",
    "hour[\"day_time\"]=np.where((hour[\"hr\"]>=5)&(hour[\"hr\"]<7),\"Early morning\",hour[\"day_time\"])\n",
    "hour[\"day_time\"]=np.where((hour[\"hr\"]>=7)&(hour[\"hr\"]<12),\"Morning\",hour[\"day_time\"])\n",
    "hour[\"day_time\"]=np.where((hour[\"hr\"]>=12)&(hour[\"hr\"]<17),\"Afternoon\",hour[\"day_time\"])\n",
    "hour[\"day_time\"]=np.where((hour[\"hr\"]>=17)&(hour[\"hr\"]<21),\"Evening\",hour[\"day_time\"])\n",
    "hour[\"day_time\"]=np.where((hour[\"hr\"]>=21)&(hour[\"hr\"]<24),\"Night\",hour[\"day_time\"])\n"
   ]
  },
  {
   "cell_type": "code",
   "execution_count": 23,
   "metadata": {},
   "outputs": [],
   "source": [
    "trips[\"dteday\"]=pd.to_datetime(trips[\"dteday\"])"
   ]
  },
  {
   "cell_type": "code",
   "execution_count": 24,
   "metadata": {},
   "outputs": [
    {
     "name": "stdout",
     "output_type": "stream",
     "text": [
      "<class 'pandas.core.frame.DataFrame'>\n",
      "Int64Index: 3255678 entries, 0 to 566831\n",
      "Data columns (total 14 columns):\n",
      " #   Column                Dtype         \n",
      "---  ------                -----         \n",
      " 0   Duration              int64         \n",
      " 1   Start date            datetime64[ns]\n",
      " 2   End date              datetime64[ns]\n",
      " 3   Start station number  int64         \n",
      " 4   Start station         object        \n",
      " 5   End station number    int64         \n",
      " 6   End station           object        \n",
      " 7   Bike number           object        \n",
      " 8   Member type           object        \n",
      " 9   mnth                  int64         \n",
      " 10  weekday               int64         \n",
      " 11  dteday                datetime64[ns]\n",
      " 12  hour                  int64         \n",
      " 13  day_time              object        \n",
      "dtypes: datetime64[ns](3), int64(6), object(5)\n",
      "memory usage: 372.6+ MB\n"
     ]
    }
   ],
   "source": [
    "trips.info()"
   ]
  },
  {
   "cell_type": "code",
   "execution_count": 25,
   "metadata": {},
   "outputs": [],
   "source": [
    "\n",
    "# HOUR DF\n",
    "hour[\"season\"]=pd.Categorical(hour[\"season\"],categories=(\"Winter\",\"Spring\",\"Summer\",\"Fall\"))\n",
    "hour[\"is_holiday\"]=hour[\"holiday\"]\n",
    "hour.loc[hour[\"is_holiday\"]==1,\"is_holiday\"]=\"Yes\"\n",
    "hour.loc[hour[\"is_holiday\"]==0,\"is_holiday\"]=\"No\"\n",
    "hour[\"is_holiday\"]=pd.Categorical(hour[\"is_holiday\"],categories=(\"Yes\",\"No\"))\n",
    "\n",
    "#DAY DF\n",
    "\n",
    "day[\"season\"]=pd.Categorical(day[\"season\"],categories=(\"Winter\",\"Spring\",\"Summer\",\"Fall\"))\n",
    "day[\"is_holiday\"]=day[\"holiday\"]\n",
    "day.loc[day[\"is_holiday\"]==1,\"is_holiday\"]=\"Yes\"\n",
    "day.loc[day[\"is_holiday\"]==0,\"is_holiday\"]=\"No\"\n",
    "day[\"is_holiday\"]=pd.Categorical(day[\"is_holiday\"],categories=(\"Yes\",\"No\"))\n",
    "\n",
    "\n",
    "#TRIPS DF\n",
    "\n",
    "trips[\"season\"]=trips[\"mnth\"]\n",
    "trips[\"season\"].replace({1:\"Winter\",2:\"Winter\",3:\"Spring\",4:\"Spring\",5:\"Spring\",6:\"Summer\",7:\"Summer\",8:\"Summer\",9:\"Fall\",10:\"Fall\",11:\"Fall\",12:\"Winter\"},inplace=True)\n",
    "trips[\"season\"]=pd.Categorical(trips[\"season\"],categories=(\"Winter\",\"Spring\",\"Summer\",\"Fall\"))\n"
   ]
  },
  {
   "cell_type": "code",
   "execution_count": 26,
   "metadata": {},
   "outputs": [],
   "source": [
    "# Normalised values to meaningful values\n",
    "\n",
    "# HOUR DF\n",
    "hour[\"tem_cel\"]=np.ceil(hour[\"temp\"]*47-8).astype(int)\n",
    "hour[\"atemp_cel\"]=np.ceil(hour[\"temp\"]*66-16).astype(int)\n",
    "hour[\"windspeed_\"]=np.ceil(hour[\"windspeed\"]*67).astype(int)\n",
    "\n",
    "# DAY DF\n",
    "day[\"tem_cel\"]=np.ceil(day[\"temp\"]*47-8).astype(int)\n",
    "day[\"atemp_cel\"]=np.ceil(day[\"temp\"]*66-16).astype(int)\n",
    "day[\"windspeed_\"]=np.ceil(day[\"windspeed\"]*67).astype(int)\n"
   ]
  },
  {
   "cell_type": "code",
   "execution_count": 27,
   "metadata": {},
   "outputs": [],
   "source": [
    "#weekday name\n",
    "\n",
    "hour[\"day_name\"]=hour[\"weekday\"]\n",
    "hour[\"day_name\"].replace({0:\"Sun\",1:\"Mon\",2:\"Tue\",3:\"Wed\",4:\"Thu\",5:\"Fri\",6:\"Sat\"},inplace=True)\n",
    "trips[\"day_name\"]=trips[\"weekday\"]\n",
    "trips[\"day_name\"].replace({0:\"Sun\",1:\"Mon\",2:\"Tue\",3:\"Wed\",4:\"Thu\",5:\"Fri\",6:\"Sat\"},inplace=True)"
   ]
  },
  {
   "cell_type": "code",
   "execution_count": 28,
   "metadata": {},
   "outputs": [],
   "source": [
    "# Holiday colummn for \"Trips\" dataset\n",
    "holiday_list=day[[\"dteday\",\"holiday\",\"is_holiday\"]]\n",
    "trips=pd.merge(trips,holiday_list,on=\"dteday\",how=\"left\")"
   ]
  },
  {
   "cell_type": "code",
   "execution_count": 29,
   "metadata": {},
   "outputs": [],
   "source": [
    "trips.loc[trips[\"Member type\"]==\"Member\",\"Member type\"]=\"registered\"\n",
    "trips.loc[trips[\"Member type\"]==\"Casual\",\"Member type\"]=\"casual\""
   ]
  },
  {
   "cell_type": "code",
   "execution_count": 30,
   "metadata": {},
   "outputs": [],
   "source": [
    "trips[\"route\"]=trips[\"Start station\"]+\" - \"+trips[\"End station\"]"
   ]
  },
  {
   "cell_type": "code",
   "execution_count": 31,
   "metadata": {},
   "outputs": [],
   "source": [
    "# Replace Unknown memeber type (<1%)\n",
    "trips[\"Member type\"].replace({\"Unknown\":\"casual\"},inplace=True)"
   ]
  },
  {
   "cell_type": "code",
   "execution_count": 32,
   "metadata": {},
   "outputs": [
    {
     "data": {
      "text/html": [
       "<div>\n",
       "<style scoped>\n",
       "    .dataframe tbody tr th:only-of-type {\n",
       "        vertical-align: middle;\n",
       "    }\n",
       "\n",
       "    .dataframe tbody tr th {\n",
       "        vertical-align: top;\n",
       "    }\n",
       "\n",
       "    .dataframe thead th {\n",
       "        text-align: right;\n",
       "    }\n",
       "</style>\n",
       "<table border=\"1\" class=\"dataframe\">\n",
       "  <thead>\n",
       "    <tr style=\"text-align: right;\">\n",
       "      <th></th>\n",
       "      <th>Duration</th>\n",
       "      <th>Start date</th>\n",
       "      <th>End date</th>\n",
       "      <th>Start station number</th>\n",
       "      <th>Start station</th>\n",
       "      <th>End station number</th>\n",
       "      <th>End station</th>\n",
       "      <th>Bike number</th>\n",
       "      <th>Member type</th>\n",
       "      <th>mnth</th>\n",
       "      <th>weekday</th>\n",
       "      <th>dteday</th>\n",
       "      <th>hour</th>\n",
       "      <th>day_time</th>\n",
       "      <th>season</th>\n",
       "      <th>day_name</th>\n",
       "      <th>holiday</th>\n",
       "      <th>is_holiday</th>\n",
       "      <th>route</th>\n",
       "    </tr>\n",
       "  </thead>\n",
       "  <tbody>\n",
       "    <tr>\n",
       "      <th>0</th>\n",
       "      <td>3548</td>\n",
       "      <td>2011-01-01 00:01:29</td>\n",
       "      <td>2011-01-01 01:00:37</td>\n",
       "      <td>31620</td>\n",
       "      <td>5th &amp; F St NW</td>\n",
       "      <td>31620</td>\n",
       "      <td>5th &amp; F St NW</td>\n",
       "      <td>W00247</td>\n",
       "      <td>registered</td>\n",
       "      <td>1</td>\n",
       "      <td>5</td>\n",
       "      <td>2011-01-01</td>\n",
       "      <td>0</td>\n",
       "      <td>Night</td>\n",
       "      <td>Winter</td>\n",
       "      <td>Fri</td>\n",
       "      <td>0</td>\n",
       "      <td>No</td>\n",
       "      <td>5th &amp; F St NW - 5th &amp; F St NW</td>\n",
       "    </tr>\n",
       "    <tr>\n",
       "      <th>1</th>\n",
       "      <td>346</td>\n",
       "      <td>2011-01-01 00:02:46</td>\n",
       "      <td>2011-01-01 00:08:32</td>\n",
       "      <td>31105</td>\n",
       "      <td>14th &amp; Harvard St NW</td>\n",
       "      <td>31101</td>\n",
       "      <td>14th &amp; V St NW</td>\n",
       "      <td>W00675</td>\n",
       "      <td>casual</td>\n",
       "      <td>1</td>\n",
       "      <td>5</td>\n",
       "      <td>2011-01-01</td>\n",
       "      <td>0</td>\n",
       "      <td>Night</td>\n",
       "      <td>Winter</td>\n",
       "      <td>Fri</td>\n",
       "      <td>0</td>\n",
       "      <td>No</td>\n",
       "      <td>14th &amp; Harvard St NW - 14th &amp; V St NW</td>\n",
       "    </tr>\n",
       "    <tr>\n",
       "      <th>2</th>\n",
       "      <td>562</td>\n",
       "      <td>2011-01-01 00:06:13</td>\n",
       "      <td>2011-01-01 00:15:36</td>\n",
       "      <td>31400</td>\n",
       "      <td>Georgia &amp; New Hampshire Ave NW</td>\n",
       "      <td>31104</td>\n",
       "      <td>Adams Mill &amp; Columbia Rd NW</td>\n",
       "      <td>W00357</td>\n",
       "      <td>registered</td>\n",
       "      <td>1</td>\n",
       "      <td>5</td>\n",
       "      <td>2011-01-01</td>\n",
       "      <td>0</td>\n",
       "      <td>Night</td>\n",
       "      <td>Winter</td>\n",
       "      <td>Fri</td>\n",
       "      <td>0</td>\n",
       "      <td>No</td>\n",
       "      <td>Georgia &amp; New Hampshire Ave NW - Adams Mill &amp; ...</td>\n",
       "    </tr>\n",
       "    <tr>\n",
       "      <th>3</th>\n",
       "      <td>434</td>\n",
       "      <td>2011-01-01 00:09:21</td>\n",
       "      <td>2011-01-01 00:16:36</td>\n",
       "      <td>31111</td>\n",
       "      <td>10th &amp; U St NW</td>\n",
       "      <td>31503</td>\n",
       "      <td>Florida Ave &amp; R St NW</td>\n",
       "      <td>W00970</td>\n",
       "      <td>registered</td>\n",
       "      <td>1</td>\n",
       "      <td>5</td>\n",
       "      <td>2011-01-01</td>\n",
       "      <td>0</td>\n",
       "      <td>Night</td>\n",
       "      <td>Winter</td>\n",
       "      <td>Fri</td>\n",
       "      <td>0</td>\n",
       "      <td>No</td>\n",
       "      <td>10th &amp; U St NW - Florida Ave &amp; R St NW</td>\n",
       "    </tr>\n",
       "    <tr>\n",
       "      <th>4</th>\n",
       "      <td>233</td>\n",
       "      <td>2011-01-01 00:28:26</td>\n",
       "      <td>2011-01-01 00:32:19</td>\n",
       "      <td>31104</td>\n",
       "      <td>Adams Mill &amp; Columbia Rd NW</td>\n",
       "      <td>31106</td>\n",
       "      <td>Calvert &amp; Biltmore St NW</td>\n",
       "      <td>W00346</td>\n",
       "      <td>casual</td>\n",
       "      <td>1</td>\n",
       "      <td>5</td>\n",
       "      <td>2011-01-01</td>\n",
       "      <td>0</td>\n",
       "      <td>Night</td>\n",
       "      <td>Winter</td>\n",
       "      <td>Fri</td>\n",
       "      <td>0</td>\n",
       "      <td>No</td>\n",
       "      <td>Adams Mill &amp; Columbia Rd NW - Calvert &amp; Biltmo...</td>\n",
       "    </tr>\n",
       "  </tbody>\n",
       "</table>\n",
       "</div>"
      ],
      "text/plain": [
       "   Duration          Start date            End date  Start station number  \\\n",
       "0      3548 2011-01-01 00:01:29 2011-01-01 01:00:37                 31620   \n",
       "1       346 2011-01-01 00:02:46 2011-01-01 00:08:32                 31105   \n",
       "2       562 2011-01-01 00:06:13 2011-01-01 00:15:36                 31400   \n",
       "3       434 2011-01-01 00:09:21 2011-01-01 00:16:36                 31111   \n",
       "4       233 2011-01-01 00:28:26 2011-01-01 00:32:19                 31104   \n",
       "\n",
       "                    Start station  End station number  \\\n",
       "0                   5th & F St NW               31620   \n",
       "1            14th & Harvard St NW               31101   \n",
       "2  Georgia & New Hampshire Ave NW               31104   \n",
       "3                  10th & U St NW               31503   \n",
       "4     Adams Mill & Columbia Rd NW               31106   \n",
       "\n",
       "                   End station Bike number Member type  mnth  weekday  \\\n",
       "0                5th & F St NW      W00247  registered     1        5   \n",
       "1               14th & V St NW      W00675      casual     1        5   \n",
       "2  Adams Mill & Columbia Rd NW      W00357  registered     1        5   \n",
       "3        Florida Ave & R St NW      W00970  registered     1        5   \n",
       "4     Calvert & Biltmore St NW      W00346      casual     1        5   \n",
       "\n",
       "      dteday  hour day_time  season day_name  holiday is_holiday  \\\n",
       "0 2011-01-01     0    Night  Winter      Fri        0         No   \n",
       "1 2011-01-01     0    Night  Winter      Fri        0         No   \n",
       "2 2011-01-01     0    Night  Winter      Fri        0         No   \n",
       "3 2011-01-01     0    Night  Winter      Fri        0         No   \n",
       "4 2011-01-01     0    Night  Winter      Fri        0         No   \n",
       "\n",
       "                                               route  \n",
       "0                      5th & F St NW - 5th & F St NW  \n",
       "1              14th & Harvard St NW - 14th & V St NW  \n",
       "2  Georgia & New Hampshire Ave NW - Adams Mill & ...  \n",
       "3             10th & U St NW - Florida Ave & R St NW  \n",
       "4  Adams Mill & Columbia Rd NW - Calvert & Biltmo...  "
      ]
     },
     "execution_count": 32,
     "metadata": {},
     "output_type": "execute_result"
    }
   ],
   "source": [
    "trips.head(5)"
   ]
  },
  {
   "cell_type": "code",
   "execution_count": 33,
   "metadata": {},
   "outputs": [
    {
     "data": {
      "text/html": [
       "<div>\n",
       "<style scoped>\n",
       "    .dataframe tbody tr th:only-of-type {\n",
       "        vertical-align: middle;\n",
       "    }\n",
       "\n",
       "    .dataframe tbody tr th {\n",
       "        vertical-align: top;\n",
       "    }\n",
       "\n",
       "    .dataframe thead th {\n",
       "        text-align: right;\n",
       "    }\n",
       "</style>\n",
       "<table border=\"1\" class=\"dataframe\">\n",
       "  <thead>\n",
       "    <tr style=\"text-align: right;\">\n",
       "      <th></th>\n",
       "      <th>instant</th>\n",
       "      <th>yr</th>\n",
       "      <th>mnth</th>\n",
       "      <th>hr</th>\n",
       "      <th>holiday</th>\n",
       "      <th>weekday</th>\n",
       "      <th>workingday</th>\n",
       "      <th>weathersit</th>\n",
       "      <th>temp</th>\n",
       "      <th>atemp</th>\n",
       "      <th>hum</th>\n",
       "      <th>windspeed</th>\n",
       "      <th>casual</th>\n",
       "      <th>registered</th>\n",
       "      <th>cnt</th>\n",
       "      <th>tem_cel</th>\n",
       "      <th>atemp_cel</th>\n",
       "      <th>windspeed_</th>\n",
       "    </tr>\n",
       "  </thead>\n",
       "  <tbody>\n",
       "    <tr>\n",
       "      <th>count</th>\n",
       "      <td>17379.0000</td>\n",
       "      <td>17379.000000</td>\n",
       "      <td>17379.000000</td>\n",
       "      <td>17379.000000</td>\n",
       "      <td>17379.000000</td>\n",
       "      <td>17379.000000</td>\n",
       "      <td>17379.000000</td>\n",
       "      <td>17379.000000</td>\n",
       "      <td>17379.000000</td>\n",
       "      <td>17379.000000</td>\n",
       "      <td>17379.000000</td>\n",
       "      <td>17379.000000</td>\n",
       "      <td>17379.000000</td>\n",
       "      <td>17379.000000</td>\n",
       "      <td>17379.000000</td>\n",
       "      <td>17379.000000</td>\n",
       "      <td>17379.000000</td>\n",
       "      <td>17379.000000</td>\n",
       "    </tr>\n",
       "    <tr>\n",
       "      <th>mean</th>\n",
       "      <td>8690.0000</td>\n",
       "      <td>0.502561</td>\n",
       "      <td>6.537775</td>\n",
       "      <td>11.546752</td>\n",
       "      <td>0.028770</td>\n",
       "      <td>3.003683</td>\n",
       "      <td>0.682721</td>\n",
       "      <td>1.425283</td>\n",
       "      <td>0.496987</td>\n",
       "      <td>0.475775</td>\n",
       "      <td>0.627229</td>\n",
       "      <td>0.190098</td>\n",
       "      <td>35.676218</td>\n",
       "      <td>153.786869</td>\n",
       "      <td>189.463088</td>\n",
       "      <td>15.872375</td>\n",
       "      <td>17.280166</td>\n",
       "      <td>13.239945</td>\n",
       "    </tr>\n",
       "    <tr>\n",
       "      <th>std</th>\n",
       "      <td>5017.0295</td>\n",
       "      <td>0.500008</td>\n",
       "      <td>3.438776</td>\n",
       "      <td>6.914405</td>\n",
       "      <td>0.167165</td>\n",
       "      <td>2.005771</td>\n",
       "      <td>0.465431</td>\n",
       "      <td>0.639357</td>\n",
       "      <td>0.192556</td>\n",
       "      <td>0.171850</td>\n",
       "      <td>0.192930</td>\n",
       "      <td>0.122340</td>\n",
       "      <td>49.305030</td>\n",
       "      <td>151.357286</td>\n",
       "      <td>181.387599</td>\n",
       "      <td>9.033183</td>\n",
       "      <td>12.696745</td>\n",
       "      <td>8.269943</td>\n",
       "    </tr>\n",
       "    <tr>\n",
       "      <th>min</th>\n",
       "      <td>1.0000</td>\n",
       "      <td>0.000000</td>\n",
       "      <td>1.000000</td>\n",
       "      <td>0.000000</td>\n",
       "      <td>0.000000</td>\n",
       "      <td>0.000000</td>\n",
       "      <td>0.000000</td>\n",
       "      <td>1.000000</td>\n",
       "      <td>0.020000</td>\n",
       "      <td>0.000000</td>\n",
       "      <td>0.000000</td>\n",
       "      <td>0.000000</td>\n",
       "      <td>0.000000</td>\n",
       "      <td>0.000000</td>\n",
       "      <td>1.000000</td>\n",
       "      <td>-7.000000</td>\n",
       "      <td>-14.000000</td>\n",
       "      <td>0.000000</td>\n",
       "    </tr>\n",
       "    <tr>\n",
       "      <th>25%</th>\n",
       "      <td>4345.5000</td>\n",
       "      <td>0.000000</td>\n",
       "      <td>4.000000</td>\n",
       "      <td>6.000000</td>\n",
       "      <td>0.000000</td>\n",
       "      <td>1.000000</td>\n",
       "      <td>0.000000</td>\n",
       "      <td>1.000000</td>\n",
       "      <td>0.340000</td>\n",
       "      <td>0.333300</td>\n",
       "      <td>0.480000</td>\n",
       "      <td>0.104500</td>\n",
       "      <td>4.000000</td>\n",
       "      <td>34.000000</td>\n",
       "      <td>40.000000</td>\n",
       "      <td>8.000000</td>\n",
       "      <td>7.000000</td>\n",
       "      <td>8.000000</td>\n",
       "    </tr>\n",
       "    <tr>\n",
       "      <th>50%</th>\n",
       "      <td>8690.0000</td>\n",
       "      <td>1.000000</td>\n",
       "      <td>7.000000</td>\n",
       "      <td>12.000000</td>\n",
       "      <td>0.000000</td>\n",
       "      <td>3.000000</td>\n",
       "      <td>1.000000</td>\n",
       "      <td>1.000000</td>\n",
       "      <td>0.500000</td>\n",
       "      <td>0.484800</td>\n",
       "      <td>0.630000</td>\n",
       "      <td>0.194000</td>\n",
       "      <td>17.000000</td>\n",
       "      <td>115.000000</td>\n",
       "      <td>142.000000</td>\n",
       "      <td>16.000000</td>\n",
       "      <td>17.000000</td>\n",
       "      <td>13.000000</td>\n",
       "    </tr>\n",
       "    <tr>\n",
       "      <th>75%</th>\n",
       "      <td>13034.5000</td>\n",
       "      <td>1.000000</td>\n",
       "      <td>10.000000</td>\n",
       "      <td>18.000000</td>\n",
       "      <td>0.000000</td>\n",
       "      <td>5.000000</td>\n",
       "      <td>1.000000</td>\n",
       "      <td>2.000000</td>\n",
       "      <td>0.660000</td>\n",
       "      <td>0.621200</td>\n",
       "      <td>0.780000</td>\n",
       "      <td>0.253700</td>\n",
       "      <td>48.000000</td>\n",
       "      <td>220.000000</td>\n",
       "      <td>281.000000</td>\n",
       "      <td>24.000000</td>\n",
       "      <td>28.000000</td>\n",
       "      <td>17.000000</td>\n",
       "    </tr>\n",
       "    <tr>\n",
       "      <th>max</th>\n",
       "      <td>17379.0000</td>\n",
       "      <td>1.000000</td>\n",
       "      <td>12.000000</td>\n",
       "      <td>23.000000</td>\n",
       "      <td>1.000000</td>\n",
       "      <td>6.000000</td>\n",
       "      <td>1.000000</td>\n",
       "      <td>4.000000</td>\n",
       "      <td>1.000000</td>\n",
       "      <td>1.000000</td>\n",
       "      <td>1.000000</td>\n",
       "      <td>0.850700</td>\n",
       "      <td>367.000000</td>\n",
       "      <td>886.000000</td>\n",
       "      <td>977.000000</td>\n",
       "      <td>39.000000</td>\n",
       "      <td>50.000000</td>\n",
       "      <td>57.000000</td>\n",
       "    </tr>\n",
       "  </tbody>\n",
       "</table>\n",
       "</div>"
      ],
      "text/plain": [
       "          instant            yr          mnth            hr       holiday  \\\n",
       "count  17379.0000  17379.000000  17379.000000  17379.000000  17379.000000   \n",
       "mean    8690.0000      0.502561      6.537775     11.546752      0.028770   \n",
       "std     5017.0295      0.500008      3.438776      6.914405      0.167165   \n",
       "min        1.0000      0.000000      1.000000      0.000000      0.000000   \n",
       "25%     4345.5000      0.000000      4.000000      6.000000      0.000000   \n",
       "50%     8690.0000      1.000000      7.000000     12.000000      0.000000   \n",
       "75%    13034.5000      1.000000     10.000000     18.000000      0.000000   \n",
       "max    17379.0000      1.000000     12.000000     23.000000      1.000000   \n",
       "\n",
       "            weekday    workingday    weathersit          temp         atemp  \\\n",
       "count  17379.000000  17379.000000  17379.000000  17379.000000  17379.000000   \n",
       "mean       3.003683      0.682721      1.425283      0.496987      0.475775   \n",
       "std        2.005771      0.465431      0.639357      0.192556      0.171850   \n",
       "min        0.000000      0.000000      1.000000      0.020000      0.000000   \n",
       "25%        1.000000      0.000000      1.000000      0.340000      0.333300   \n",
       "50%        3.000000      1.000000      1.000000      0.500000      0.484800   \n",
       "75%        5.000000      1.000000      2.000000      0.660000      0.621200   \n",
       "max        6.000000      1.000000      4.000000      1.000000      1.000000   \n",
       "\n",
       "                hum     windspeed        casual    registered           cnt  \\\n",
       "count  17379.000000  17379.000000  17379.000000  17379.000000  17379.000000   \n",
       "mean       0.627229      0.190098     35.676218    153.786869    189.463088   \n",
       "std        0.192930      0.122340     49.305030    151.357286    181.387599   \n",
       "min        0.000000      0.000000      0.000000      0.000000      1.000000   \n",
       "25%        0.480000      0.104500      4.000000     34.000000     40.000000   \n",
       "50%        0.630000      0.194000     17.000000    115.000000    142.000000   \n",
       "75%        0.780000      0.253700     48.000000    220.000000    281.000000   \n",
       "max        1.000000      0.850700    367.000000    886.000000    977.000000   \n",
       "\n",
       "            tem_cel     atemp_cel    windspeed_  \n",
       "count  17379.000000  17379.000000  17379.000000  \n",
       "mean      15.872375     17.280166     13.239945  \n",
       "std        9.033183     12.696745      8.269943  \n",
       "min       -7.000000    -14.000000      0.000000  \n",
       "25%        8.000000      7.000000      8.000000  \n",
       "50%       16.000000     17.000000     13.000000  \n",
       "75%       24.000000     28.000000     17.000000  \n",
       "max       39.000000     50.000000     57.000000  "
      ]
     },
     "execution_count": 33,
     "metadata": {},
     "output_type": "execute_result"
    }
   ],
   "source": [
    "hour.describe()"
   ]
  },
  {
   "cell_type": "code",
   "execution_count": 34,
   "metadata": {},
   "outputs": [
    {
     "data": {
      "text/html": [
       "<div>\n",
       "<style scoped>\n",
       "    .dataframe tbody tr th:only-of-type {\n",
       "        vertical-align: middle;\n",
       "    }\n",
       "\n",
       "    .dataframe tbody tr th {\n",
       "        vertical-align: top;\n",
       "    }\n",
       "\n",
       "    .dataframe thead th {\n",
       "        text-align: right;\n",
       "    }\n",
       "</style>\n",
       "<table border=\"1\" class=\"dataframe\">\n",
       "  <thead>\n",
       "    <tr style=\"text-align: right;\">\n",
       "      <th></th>\n",
       "      <th>Duration</th>\n",
       "      <th>Start station number</th>\n",
       "      <th>End station number</th>\n",
       "      <th>mnth</th>\n",
       "      <th>weekday</th>\n",
       "      <th>hour</th>\n",
       "      <th>holiday</th>\n",
       "    </tr>\n",
       "  </thead>\n",
       "  <tbody>\n",
       "    <tr>\n",
       "      <th>count</th>\n",
       "      <td>3.255678e+06</td>\n",
       "      <td>3.255678e+06</td>\n",
       "      <td>3.255678e+06</td>\n",
       "      <td>3.255678e+06</td>\n",
       "      <td>3.255678e+06</td>\n",
       "      <td>3.255678e+06</td>\n",
       "      <td>3.255678e+06</td>\n",
       "    </tr>\n",
       "    <tr>\n",
       "      <th>mean</th>\n",
       "      <td>1.084497e+03</td>\n",
       "      <td>3.128974e+04</td>\n",
       "      <td>3.129182e+04</td>\n",
       "      <td>6.936537e+00</td>\n",
       "      <td>2.998742e+00</td>\n",
       "      <td>1.415391e+01</td>\n",
       "      <td>2.382514e-02</td>\n",
       "    </tr>\n",
       "    <tr>\n",
       "      <th>std</th>\n",
       "      <td>2.100267e+03</td>\n",
       "      <td>1.931212e+02</td>\n",
       "      <td>1.923761e+02</td>\n",
       "      <td>3.037865e+00</td>\n",
       "      <td>1.974851e+00</td>\n",
       "      <td>5.033927e+00</td>\n",
       "      <td>1.525041e-01</td>\n",
       "    </tr>\n",
       "    <tr>\n",
       "      <th>min</th>\n",
       "      <td>6.000000e+01</td>\n",
       "      <td>3.100000e+04</td>\n",
       "      <td>3.100000e+04</td>\n",
       "      <td>1.000000e+00</td>\n",
       "      <td>0.000000e+00</td>\n",
       "      <td>0.000000e+00</td>\n",
       "      <td>0.000000e+00</td>\n",
       "    </tr>\n",
       "    <tr>\n",
       "      <th>25%</th>\n",
       "      <td>3.990000e+02</td>\n",
       "      <td>3.120000e+04</td>\n",
       "      <td>3.120100e+04</td>\n",
       "      <td>5.000000e+00</td>\n",
       "      <td>1.000000e+00</td>\n",
       "      <td>1.000000e+01</td>\n",
       "      <td>0.000000e+00</td>\n",
       "    </tr>\n",
       "    <tr>\n",
       "      <th>50%</th>\n",
       "      <td>6.580000e+02</td>\n",
       "      <td>3.122600e+04</td>\n",
       "      <td>3.122500e+04</td>\n",
       "      <td>7.000000e+00</td>\n",
       "      <td>3.000000e+00</td>\n",
       "      <td>1.500000e+01</td>\n",
       "      <td>0.000000e+00</td>\n",
       "    </tr>\n",
       "    <tr>\n",
       "      <th>75%</th>\n",
       "      <td>1.092000e+03</td>\n",
       "      <td>3.140100e+04</td>\n",
       "      <td>3.140200e+04</td>\n",
       "      <td>9.000000e+00</td>\n",
       "      <td>5.000000e+00</td>\n",
       "      <td>1.800000e+01</td>\n",
       "      <td>0.000000e+00</td>\n",
       "    </tr>\n",
       "    <tr>\n",
       "      <th>max</th>\n",
       "      <td>8.635500e+04</td>\n",
       "      <td>3.180600e+04</td>\n",
       "      <td>3.180600e+04</td>\n",
       "      <td>1.200000e+01</td>\n",
       "      <td>6.000000e+00</td>\n",
       "      <td>2.300000e+01</td>\n",
       "      <td>1.000000e+00</td>\n",
       "    </tr>\n",
       "  </tbody>\n",
       "</table>\n",
       "</div>"
      ],
      "text/plain": [
       "           Duration  Start station number  End station number          mnth  \\\n",
       "count  3.255678e+06          3.255678e+06        3.255678e+06  3.255678e+06   \n",
       "mean   1.084497e+03          3.128974e+04        3.129182e+04  6.936537e+00   \n",
       "std    2.100267e+03          1.931212e+02        1.923761e+02  3.037865e+00   \n",
       "min    6.000000e+01          3.100000e+04        3.100000e+04  1.000000e+00   \n",
       "25%    3.990000e+02          3.120000e+04        3.120100e+04  5.000000e+00   \n",
       "50%    6.580000e+02          3.122600e+04        3.122500e+04  7.000000e+00   \n",
       "75%    1.092000e+03          3.140100e+04        3.140200e+04  9.000000e+00   \n",
       "max    8.635500e+04          3.180600e+04        3.180600e+04  1.200000e+01   \n",
       "\n",
       "            weekday          hour       holiday  \n",
       "count  3.255678e+06  3.255678e+06  3.255678e+06  \n",
       "mean   2.998742e+00  1.415391e+01  2.382514e-02  \n",
       "std    1.974851e+00  5.033927e+00  1.525041e-01  \n",
       "min    0.000000e+00  0.000000e+00  0.000000e+00  \n",
       "25%    1.000000e+00  1.000000e+01  0.000000e+00  \n",
       "50%    3.000000e+00  1.500000e+01  0.000000e+00  \n",
       "75%    5.000000e+00  1.800000e+01  0.000000e+00  \n",
       "max    6.000000e+00  2.300000e+01  1.000000e+00  "
      ]
     },
     "execution_count": 34,
     "metadata": {},
     "output_type": "execute_result"
    }
   ],
   "source": [
    "trips.describe()"
   ]
  },
  {
   "cell_type": "code",
   "execution_count": 35,
   "metadata": {},
   "outputs": [
    {
     "name": "stdout",
     "output_type": "stream",
     "text": [
      "<class 'pandas.core.frame.DataFrame'>\n",
      "Int64Index: 3255678 entries, 0 to 3255677\n",
      "Data columns (total 19 columns):\n",
      " #   Column                Dtype         \n",
      "---  ------                -----         \n",
      " 0   Duration              int64         \n",
      " 1   Start date            datetime64[ns]\n",
      " 2   End date              datetime64[ns]\n",
      " 3   Start station number  int64         \n",
      " 4   Start station         object        \n",
      " 5   End station number    int64         \n",
      " 6   End station           object        \n",
      " 7   Bike number           object        \n",
      " 8   Member type           object        \n",
      " 9   mnth                  int64         \n",
      " 10  weekday               int64         \n",
      " 11  dteday                datetime64[ns]\n",
      " 12  hour                  int64         \n",
      " 13  day_time              object        \n",
      " 14  season                category      \n",
      " 15  day_name              object        \n",
      " 16  holiday               int64         \n",
      " 17  is_holiday            category      \n",
      " 18  route                 object        \n",
      "dtypes: category(2), datetime64[ns](3), int64(7), object(7)\n",
      "memory usage: 453.3+ MB\n"
     ]
    }
   ],
   "source": [
    "trips.info()"
   ]
  },
  {
   "cell_type": "code",
   "execution_count": 36,
   "metadata": {},
   "outputs": [],
   "source": [
    "# Weather score\n",
    "hour[\"hum_score\"]=hour[\"hum\"]\n",
    "hour[\"temp_score\"]=hour[\"tem_cel\"]\n",
    "hour[\"wind_score\"]=hour[\"windspeed_\"]\n",
    "\n",
    "\n",
    "hour[\"hum_score\"]=np.where(hour[\"hum_score\"]>=0.78,4,hour[\"hum_score\"])\n",
    "hour[\"hum_score\"]=np.where((hour[\"hum_score\"]>=0.63)&(hour[\"hum_score\"]<0.78),3,hour[\"hum_score\"])\n",
    "hour[\"hum_score\"]=np.where((hour[\"hum_score\"]>=0.48)&(hour[\"hum_score\"]<0.63),2,hour[\"hum_score\"])\n",
    "hour[\"hum_score\"]=np.where(hour[\"hum_score\"]<0.48,1,hour[\"hum_score\"])\n",
    "\n",
    "\n",
    "hour[\"temp_score\"]=np.where((hour[\"temp_score\"]>=0)&(hour[\"temp_score\"]<10),3,hour[\"temp_score\"])\n",
    "hour[\"temp_score\"]=np.where((hour[\"temp_score\"]>=10)&(hour[\"temp_score\"]<16),2,hour[\"temp_score\"])\n",
    "hour[\"temp_score\"]=np.where((hour[\"temp_score\"]>=25)&(hour[\"temp_score\"]<30),2,hour[\"temp_score\"])\n",
    "hour[\"temp_score\"]=np.where((hour[\"temp_score\"]>=16)&(hour[\"temp_score\"]<25),1,hour[\"temp_score\"])\n",
    "hour[\"temp_score\"]=np.where(hour[\"temp_score\"]>=30,4,hour[\"temp_score\"])\n",
    "hour[\"temp_score\"]=np.where(hour[\"temp_score\"]<0,4,hour[\"temp_score\"])\n",
    "\n",
    "\n",
    "hour[\"wind_score\"]=np.where((hour[\"wind_score\"]>=0)&(hour[\"wind_score\"]<13),1,hour[\"wind_score\"])\n",
    "hour[\"wind_score\"]=np.where((hour[\"wind_score\"]>=13)&(hour[\"wind_score\"]<25),2,hour[\"wind_score\"])\n",
    "hour[\"wind_score\"]=np.where((hour[\"wind_score\"]>=25)&(hour[\"wind_score\"]<39),3,hour[\"wind_score\"])\n",
    "hour[\"wind_score\"]=np.where((hour[\"wind_score\"]>=39),4,hour[\"wind_score\"])\n",
    "\n",
    "hour[\"weather_score\"]=((hour[\"temp_score\"]*0.4)+(hour[\"hum_score\"]*0.3)+(hour[\"wind_score\"]*0.1)+(hour[\"weathersit\"]*0.2))\n"
   ]
  },
  {
   "cell_type": "markdown",
   "metadata": {},
   "source": [
    "EDA (HOUR DF)"
   ]
  },
  {
   "cell_type": "code",
   "execution_count": 37,
   "metadata": {},
   "outputs": [
    {
     "data": {
      "image/png": "[encoded data removed]",
      "text/plain": [
       "<Figure size 432x288 with 2 Axes>"
      ]
     },
     "metadata": {
      "needs_background": "light"
     },
     "output_type": "display_data"
    }
   ],
   "source": [
    "\n",
    "weather=hour[[\"weathersit\",\"temp\",\"hum\",\"windspeed\",\"weather_score\",\"casual\",\"registered\"]].copy()\n",
    "\n",
    "matrix_weather=weather.corr()\n",
    "\n",
    "sns.heatmap(data=matrix_weather,cmap=\"coolwarm\",vmin=-1,vmax=1,robust=True,square=True,annot=True )\n",
    "plt.show()"
   ]
  },
  {
   "cell_type": "code",
   "execution_count": 38,
   "metadata": {},
   "outputs": [],
   "source": [
    "hours_melt=pd.melt(hour,id_vars=[\"instant\",\"dteday\",\"day_name\",\"season\",\"yr\",\"mnth\",\"hr\",\"holiday\",\"weekday\",\"workingday\",\"weathersit\",\"tem_cel\",\"atemp_cel\",\"hum\",\"windspeed_\",\"is_holiday\",\"weather_score\",\"day_time\"],value_vars=[\"casual\",\"registered\"])"
   ]
  },
  {
   "cell_type": "markdown",
   "metadata": {},
   "source": [
    "Fix misspel"
   ]
  },
  {
   "cell_type": "code",
   "execution_count": 39,
   "metadata": {},
   "outputs": [],
   "source": [
    "#Fix misspel in Station name\n",
    "trips.loc[trips[\"Start station number\"]==31619,\"Start station\"]=\"Lincoln Park / 13th & East Capitol St NE\"\n"
   ]
  },
  {
   "cell_type": "code",
   "execution_count": 40,
   "metadata": {},
   "outputs": [],
   "source": [
    "#Fix misspel in Station name\n",
    "trips.loc[trips[\"End station number\"]==31619,\"End station\"]=\"Lincoln Park / 13th & East Capitol St NE\""
   ]
  },
  {
   "cell_type": "code",
   "execution_count": 41,
   "metadata": {},
   "outputs": [],
   "source": [
    "label=[\"Route\",\"Count\"]\n",
    "routes_list=trips[\"route\"].value_counts(dropna=False).rename_axis(\"Route\").reset_index(name='Count')"
   ]
  },
  {
   "cell_type": "markdown",
   "metadata": {},
   "source": [
    "TOP STATIONS"
   ]
  },
  {
   "cell_type": "code",
   "execution_count": 42,
   "metadata": {},
   "outputs": [],
   "source": [
    "# Data frames for different day time\n",
    "registered_morning=trips[(trips[\"day_time\"]==\"Morning\")&(trips[\"Member type\"]==\"registered\")]\n",
    "registered_evening=trips[(trips[\"day_time\"]==\"Evening\")&(trips[\"Member type\"]==\"registered\")]\n",
    "casual_afternoon=trips[(trips[\"day_time\"]==\"Afternoon\")&(trips[\"Member type\"]==\"casual\")]\n",
    "casual_evening=trips[(trips[\"day_time\"]==\"Evening\")&(trips[\"Member type\"]==\"casual\")]"
   ]
  },
  {
   "cell_type": "code",
   "execution_count": 43,
   "metadata": {},
   "outputs": [
    {
     "data": {
      "text/html": [
       "<div>\n",
       "<style scoped>\n",
       "    .dataframe tbody tr th:only-of-type {\n",
       "        vertical-align: middle;\n",
       "    }\n",
       "\n",
       "    .dataframe tbody tr th {\n",
       "        vertical-align: top;\n",
       "    }\n",
       "\n",
       "    .dataframe thead th {\n",
       "        text-align: right;\n",
       "    }\n",
       "</style>\n",
       "<table border=\"1\" class=\"dataframe\">\n",
       "  <thead>\n",
       "    <tr style=\"text-align: right;\">\n",
       "      <th></th>\n",
       "      <th></th>\n",
       "      <th>Duration</th>\n",
       "      <th>Start date</th>\n",
       "      <th>End date</th>\n",
       "      <th>Start station number</th>\n",
       "      <th>End station number</th>\n",
       "      <th>End station</th>\n",
       "      <th>Bike number</th>\n",
       "      <th>Member type</th>\n",
       "      <th>mnth</th>\n",
       "      <th>weekday</th>\n",
       "      <th>dteday</th>\n",
       "      <th>hour</th>\n",
       "      <th>season</th>\n",
       "      <th>day_name</th>\n",
       "      <th>holiday</th>\n",
       "      <th>is_holiday</th>\n",
       "      <th>route</th>\n",
       "    </tr>\n",
       "    <tr>\n",
       "      <th>Start station</th>\n",
       "      <th>day_time</th>\n",
       "      <th></th>\n",
       "      <th></th>\n",
       "      <th></th>\n",
       "      <th></th>\n",
       "      <th></th>\n",
       "      <th></th>\n",
       "      <th></th>\n",
       "      <th></th>\n",
       "      <th></th>\n",
       "      <th></th>\n",
       "      <th></th>\n",
       "      <th></th>\n",
       "      <th></th>\n",
       "      <th></th>\n",
       "      <th></th>\n",
       "      <th></th>\n",
       "      <th></th>\n",
       "    </tr>\n",
       "  </thead>\n",
       "  <tbody>\n",
       "    <tr>\n",
       "      <th rowspan=\"5\" valign=\"top\">10th &amp; E St NW</th>\n",
       "      <th>Afternoon</th>\n",
       "      <td>2158</td>\n",
       "      <td>2158</td>\n",
       "      <td>2158</td>\n",
       "      <td>2158</td>\n",
       "      <td>2158</td>\n",
       "      <td>2158</td>\n",
       "      <td>2158</td>\n",
       "      <td>2158</td>\n",
       "      <td>2158</td>\n",
       "      <td>2158</td>\n",
       "      <td>2158</td>\n",
       "      <td>2158</td>\n",
       "      <td>2158</td>\n",
       "      <td>2158</td>\n",
       "      <td>2158</td>\n",
       "      <td>2158</td>\n",
       "      <td>2158</td>\n",
       "    </tr>\n",
       "    <tr>\n",
       "      <th>Early morning</th>\n",
       "      <td>14</td>\n",
       "      <td>14</td>\n",
       "      <td>14</td>\n",
       "      <td>14</td>\n",
       "      <td>14</td>\n",
       "      <td>14</td>\n",
       "      <td>14</td>\n",
       "      <td>14</td>\n",
       "      <td>14</td>\n",
       "      <td>14</td>\n",
       "      <td>14</td>\n",
       "      <td>14</td>\n",
       "      <td>14</td>\n",
       "      <td>14</td>\n",
       "      <td>14</td>\n",
       "      <td>14</td>\n",
       "      <td>14</td>\n",
       "    </tr>\n",
       "    <tr>\n",
       "      <th>Evening</th>\n",
       "      <td>2360</td>\n",
       "      <td>2360</td>\n",
       "      <td>2360</td>\n",
       "      <td>2360</td>\n",
       "      <td>2360</td>\n",
       "      <td>2360</td>\n",
       "      <td>2360</td>\n",
       "      <td>2360</td>\n",
       "      <td>2360</td>\n",
       "      <td>2360</td>\n",
       "      <td>2360</td>\n",
       "      <td>2360</td>\n",
       "      <td>2360</td>\n",
       "      <td>2360</td>\n",
       "      <td>2360</td>\n",
       "      <td>2360</td>\n",
       "      <td>2360</td>\n",
       "    </tr>\n",
       "    <tr>\n",
       "      <th>Morning</th>\n",
       "      <td>839</td>\n",
       "      <td>839</td>\n",
       "      <td>839</td>\n",
       "      <td>839</td>\n",
       "      <td>839</td>\n",
       "      <td>839</td>\n",
       "      <td>839</td>\n",
       "      <td>839</td>\n",
       "      <td>839</td>\n",
       "      <td>839</td>\n",
       "      <td>839</td>\n",
       "      <td>839</td>\n",
       "      <td>839</td>\n",
       "      <td>839</td>\n",
       "      <td>839</td>\n",
       "      <td>839</td>\n",
       "      <td>839</td>\n",
       "    </tr>\n",
       "    <tr>\n",
       "      <th>Night</th>\n",
       "      <td>909</td>\n",
       "      <td>909</td>\n",
       "      <td>909</td>\n",
       "      <td>909</td>\n",
       "      <td>909</td>\n",
       "      <td>909</td>\n",
       "      <td>909</td>\n",
       "      <td>909</td>\n",
       "      <td>909</td>\n",
       "      <td>909</td>\n",
       "      <td>909</td>\n",
       "      <td>909</td>\n",
       "      <td>909</td>\n",
       "      <td>909</td>\n",
       "      <td>909</td>\n",
       "      <td>909</td>\n",
       "      <td>909</td>\n",
       "    </tr>\n",
       "    <tr>\n",
       "      <th>...</th>\n",
       "      <th>...</th>\n",
       "      <td>...</td>\n",
       "      <td>...</td>\n",
       "      <td>...</td>\n",
       "      <td>...</td>\n",
       "      <td>...</td>\n",
       "      <td>...</td>\n",
       "      <td>...</td>\n",
       "      <td>...</td>\n",
       "      <td>...</td>\n",
       "      <td>...</td>\n",
       "      <td>...</td>\n",
       "      <td>...</td>\n",
       "      <td>...</td>\n",
       "      <td>...</td>\n",
       "      <td>...</td>\n",
       "      <td>...</td>\n",
       "      <td>...</td>\n",
       "    </tr>\n",
       "    <tr>\n",
       "      <th rowspan=\"5\" valign=\"top\">Wisconsin Ave &amp; Newark St NW</th>\n",
       "      <th>Afternoon</th>\n",
       "      <td>4078</td>\n",
       "      <td>4078</td>\n",
       "      <td>4078</td>\n",
       "      <td>4078</td>\n",
       "      <td>4078</td>\n",
       "      <td>4078</td>\n",
       "      <td>4078</td>\n",
       "      <td>4078</td>\n",
       "      <td>4078</td>\n",
       "      <td>4078</td>\n",
       "      <td>4078</td>\n",
       "      <td>4078</td>\n",
       "      <td>4078</td>\n",
       "      <td>4078</td>\n",
       "      <td>4078</td>\n",
       "      <td>4078</td>\n",
       "      <td>4078</td>\n",
       "    </tr>\n",
       "    <tr>\n",
       "      <th>Early morning</th>\n",
       "      <td>628</td>\n",
       "      <td>628</td>\n",
       "      <td>628</td>\n",
       "      <td>628</td>\n",
       "      <td>628</td>\n",
       "      <td>628</td>\n",
       "      <td>628</td>\n",
       "      <td>628</td>\n",
       "      <td>628</td>\n",
       "      <td>628</td>\n",
       "      <td>628</td>\n",
       "      <td>628</td>\n",
       "      <td>628</td>\n",
       "      <td>628</td>\n",
       "      <td>628</td>\n",
       "      <td>628</td>\n",
       "      <td>628</td>\n",
       "    </tr>\n",
       "    <tr>\n",
       "      <th>Evening</th>\n",
       "      <td>3572</td>\n",
       "      <td>3572</td>\n",
       "      <td>3572</td>\n",
       "      <td>3572</td>\n",
       "      <td>3572</td>\n",
       "      <td>3572</td>\n",
       "      <td>3572</td>\n",
       "      <td>3572</td>\n",
       "      <td>3572</td>\n",
       "      <td>3572</td>\n",
       "      <td>3572</td>\n",
       "      <td>3572</td>\n",
       "      <td>3572</td>\n",
       "      <td>3572</td>\n",
       "      <td>3572</td>\n",
       "      <td>3572</td>\n",
       "      <td>3572</td>\n",
       "    </tr>\n",
       "    <tr>\n",
       "      <th>Morning</th>\n",
       "      <td>6021</td>\n",
       "      <td>6021</td>\n",
       "      <td>6021</td>\n",
       "      <td>6021</td>\n",
       "      <td>6021</td>\n",
       "      <td>6021</td>\n",
       "      <td>6021</td>\n",
       "      <td>6021</td>\n",
       "      <td>6021</td>\n",
       "      <td>6021</td>\n",
       "      <td>6021</td>\n",
       "      <td>6021</td>\n",
       "      <td>6021</td>\n",
       "      <td>6021</td>\n",
       "      <td>6021</td>\n",
       "      <td>6021</td>\n",
       "      <td>6021</td>\n",
       "    </tr>\n",
       "    <tr>\n",
       "      <th>Night</th>\n",
       "      <td>1448</td>\n",
       "      <td>1448</td>\n",
       "      <td>1448</td>\n",
       "      <td>1448</td>\n",
       "      <td>1448</td>\n",
       "      <td>1448</td>\n",
       "      <td>1448</td>\n",
       "      <td>1448</td>\n",
       "      <td>1448</td>\n",
       "      <td>1448</td>\n",
       "      <td>1448</td>\n",
       "      <td>1448</td>\n",
       "      <td>1448</td>\n",
       "      <td>1448</td>\n",
       "      <td>1448</td>\n",
       "      <td>1448</td>\n",
       "      <td>1448</td>\n",
       "    </tr>\n",
       "  </tbody>\n",
       "</table>\n",
       "<p>957 rows × 17 columns</p>\n",
       "</div>"
      ],
      "text/plain": [
       "                                            Duration  Start date  End date  \\\n",
       "Start station                day_time                                        \n",
       "10th & E St NW               Afternoon          2158        2158      2158   \n",
       "                             Early morning        14          14        14   \n",
       "                             Evening            2360        2360      2360   \n",
       "                             Morning             839         839       839   \n",
       "                             Night               909         909       909   \n",
       "...                                              ...         ...       ...   \n",
       "Wisconsin Ave & Newark St NW Afternoon          4078        4078      4078   \n",
       "                             Early morning       628         628       628   \n",
       "                             Evening            3572        3572      3572   \n",
       "                             Morning            6021        6021      6021   \n",
       "                             Night              1448        1448      1448   \n",
       "\n",
       "                                            Start station number  \\\n",
       "Start station                day_time                              \n",
       "10th & E St NW               Afternoon                      2158   \n",
       "                             Early morning                    14   \n",
       "                             Evening                        2360   \n",
       "                             Morning                         839   \n",
       "                             Night                           909   \n",
       "...                                                          ...   \n",
       "Wisconsin Ave & Newark St NW Afternoon                      4078   \n",
       "                             Early morning                   628   \n",
       "                             Evening                        3572   \n",
       "                             Morning                        6021   \n",
       "                             Night                          1448   \n",
       "\n",
       "                                            End station number  End station  \\\n",
       "Start station                day_time                                         \n",
       "10th & E St NW               Afternoon                    2158         2158   \n",
       "                             Early morning                  14           14   \n",
       "                             Evening                      2360         2360   \n",
       "                             Morning                       839          839   \n",
       "                             Night                         909          909   \n",
       "...                                                        ...          ...   \n",
       "Wisconsin Ave & Newark St NW Afternoon                    4078         4078   \n",
       "                             Early morning                 628          628   \n",
       "                             Evening                      3572         3572   \n",
       "                             Morning                      6021         6021   \n",
       "                             Night                        1448         1448   \n",
       "\n",
       "                                            Bike number  Member type  mnth  \\\n",
       "Start station                day_time                                        \n",
       "10th & E St NW               Afternoon             2158         2158  2158   \n",
       "                             Early morning           14           14    14   \n",
       "                             Evening               2360         2360  2360   \n",
       "                             Morning                839          839   839   \n",
       "                             Night                  909          909   909   \n",
       "...                                                 ...          ...   ...   \n",
       "Wisconsin Ave & Newark St NW Afternoon             4078         4078  4078   \n",
       "                             Early morning          628          628   628   \n",
       "                             Evening               3572         3572  3572   \n",
       "                             Morning               6021         6021  6021   \n",
       "                             Night                 1448         1448  1448   \n",
       "\n",
       "                                            weekday  dteday  hour  season  \\\n",
       "Start station                day_time                                       \n",
       "10th & E St NW               Afternoon         2158    2158  2158    2158   \n",
       "                             Early morning       14      14    14      14   \n",
       "                             Evening           2360    2360  2360    2360   \n",
       "                             Morning            839     839   839     839   \n",
       "                             Night              909     909   909     909   \n",
       "...                                             ...     ...   ...     ...   \n",
       "Wisconsin Ave & Newark St NW Afternoon         4078    4078  4078    4078   \n",
       "                             Early morning      628     628   628     628   \n",
       "                             Evening           3572    3572  3572    3572   \n",
       "                             Morning           6021    6021  6021    6021   \n",
       "                             Night             1448    1448  1448    1448   \n",
       "\n",
       "                                            day_name  holiday  is_holiday  \\\n",
       "Start station                day_time                                       \n",
       "10th & E St NW               Afternoon          2158     2158        2158   \n",
       "                             Early morning        14       14          14   \n",
       "                             Evening            2360     2360        2360   \n",
       "                             Morning             839      839         839   \n",
       "                             Night               909      909         909   \n",
       "...                                              ...      ...         ...   \n",
       "Wisconsin Ave & Newark St NW Afternoon          4078     4078        4078   \n",
       "                             Early morning       628      628         628   \n",
       "                             Evening            3572     3572        3572   \n",
       "                             Morning            6021     6021        6021   \n",
       "                             Night              1448     1448        1448   \n",
       "\n",
       "                                            route  \n",
       "Start station                day_time              \n",
       "10th & E St NW               Afternoon       2158  \n",
       "                             Early morning     14  \n",
       "                             Evening         2360  \n",
       "                             Morning          839  \n",
       "                             Night            909  \n",
       "...                                           ...  \n",
       "Wisconsin Ave & Newark St NW Afternoon       4078  \n",
       "                             Early morning    628  \n",
       "                             Evening         3572  \n",
       "                             Morning         6021  \n",
       "                             Night           1448  \n",
       "\n",
       "[957 rows x 17 columns]"
      ]
     },
     "execution_count": 43,
     "metadata": {},
     "output_type": "execute_result"
    }
   ],
   "source": [
    "#TOP 50 START STATIONS WITH TIME\n",
    "trips.groupby([\"Start station\",\"day_time\"]).count()"
   ]
  },
  {
   "cell_type": "markdown",
   "metadata": {},
   "source": [
    "**TOP 50 START STATIONS**"
   ]
  },
  {
   "cell_type": "code",
   "execution_count": 44,
   "metadata": {},
   "outputs": [],
   "source": [
    "# WITHOUT DAY TIME\n",
    "station_start_list=trips[\"Start station\"].value_counts(dropna=False).rename_axis(\"NAME\").reset_index(name='Count')\n",
    "station_start_list[\"Station type\"]=\"Start station\"\n",
    "station_start_loc=pd.merge(station_start_list,station_loc,on=\"NAME\",how=\"left\")\n",
    "top50_start=station_start_loc.sort_values(by=[\"Count\"],ascending=False).iloc[0:50,:]"
   ]
  },
  {
   "cell_type": "code",
   "execution_count": 45,
   "metadata": {},
   "outputs": [],
   "source": [
    "# WITH DAY TIME\n",
    "\n",
    "# registered_morning\n",
    "start_registered_morning=registered_morning[\"Start station\"].value_counts(dropna=False).rename_axis(\"NAME\").reset_index(name='Count')\n",
    "start_registered_morning[\"Station type\"]=\"Start station\"\n",
    "start_registered_morning_loc=pd.merge(start_registered_morning,station_loc,on=\"NAME\",how=\"left\")\n",
    "top50_start_registered_morning=start_registered_morning_loc.sort_values(by=[\"Count\"],ascending=False).iloc[0:50,:]\n",
    "\n",
    "# registered_evening\n",
    "start_registered_evening=registered_evening[\"Start station\"].value_counts(dropna=False).rename_axis(\"NAME\").reset_index(name='Count')\n",
    "start_registered_evening[\"Station type\"]=\"Start station\"\n",
    "start_registered_evening_loc=pd.merge(start_registered_evening,station_loc,on=\"NAME\",how=\"left\")\n",
    "top50_start_registered_evening=start_registered_evening_loc.sort_values(by=[\"Count\"],ascending=False).iloc[0:50,:]\n",
    "\n",
    "#casual_afternoon\n",
    "\n",
    "start_casual_afternoon=casual_afternoon[\"Start station\"].value_counts(dropna=False).rename_axis(\"NAME\").reset_index(name='Count')\n",
    "start_casual_afternoon[\"Station type\"]=\"Start station\"\n",
    "start_casual_afternoon_loc=pd.merge(start_casual_afternoon,station_loc,on=\"NAME\",how=\"left\")\n",
    "top50_start_casual_afternoon=start_casual_afternoon_loc.sort_values(by=[\"Count\"],ascending=False).iloc[0:50,:]\n",
    "\n",
    "#casual_evening\n",
    "\n",
    "start_casual_evening=casual_evening[\"Start station\"].value_counts(dropna=False).rename_axis(\"NAME\").reset_index(name='Count')\n",
    "start_casual_evening[\"Station type\"]=\"Start station\"\n",
    "start_casual_evening_loc=pd.merge(start_casual_evening,station_loc,on=\"NAME\",how=\"left\")\n",
    "top50_start_casual_evening=start_casual_evening_loc.sort_values(by=[\"Count\"],ascending=False).iloc[0:50,:]\n"
   ]
  },
  {
   "cell_type": "markdown",
   "metadata": {},
   "source": [
    "TOP 50 END STATIONS"
   ]
  },
  {
   "cell_type": "code",
   "execution_count": 46,
   "metadata": {},
   "outputs": [],
   "source": [
    "# WITHOUT DAY TIME\n",
    "station_end_list=trips[\"End station\"].value_counts(dropna=False).rename_axis(\"NAME\").reset_index(name='Count')\n",
    "station_end_list[\"Station type\"]=\"End station\"\n",
    "station_end_loc=pd.merge(station_end_list,station_loc,on=\"NAME\",how=\"left\")\n",
    "top50_end=station_end_loc.sort_values(by=[\"Count\"],ascending=False).iloc[0:50,:]\n"
   ]
  },
  {
   "cell_type": "code",
   "execution_count": 47,
   "metadata": {},
   "outputs": [],
   "source": [
    "# WITH DAY TIME\n",
    "\n",
    "# registered_morning\n",
    "end_registered_morning=registered_morning[\"End station\"].value_counts(dropna=False).rename_axis(\"NAME\").reset_index(name='Count')\n",
    "end_registered_morning[\"Station type\"]=\"End station\"\n",
    "end_registered_morning_loc=pd.merge(end_registered_morning,station_loc,on=\"NAME\",how=\"left\")\n",
    "top50_end_registered_morning=end_registered_morning_loc.sort_values(by=[\"Count\"],ascending=False).iloc[0:50,:]\n",
    "\n",
    "# registered_evening\n",
    "end_registered_evening=registered_evening[\"End station\"].value_counts(dropna=False).rename_axis(\"NAME\").reset_index(name='Count')\n",
    "end_registered_evening[\"Station type\"]=\"End station\"\n",
    "end_registered_evening_loc=pd.merge(end_registered_evening,station_loc,on=\"NAME\",how=\"left\")\n",
    "top50_end_registered_evening=end_registered_evening_loc.sort_values(by=[\"Count\"],ascending=False).iloc[0:50,:]\n",
    "\n",
    "#casual_afternoon\n",
    "\n",
    "end_casual_afternoon=casual_afternoon[\"End station\"].value_counts(dropna=False).rename_axis(\"NAME\").reset_index(name='Count')\n",
    "end_casual_afternoon[\"Station type\"]=\"End station\"\n",
    "end_casual_afternoon_loc=pd.merge(end_casual_afternoon,station_loc,on=\"NAME\",how=\"left\")\n",
    "top50_end_casual_afternoon=end_casual_afternoon_loc.sort_values(by=[\"Count\"],ascending=False).iloc[0:50,:]\n",
    "\n",
    "#casual_evening\n",
    "\n",
    "end_casual_evening=casual_evening[\"End station\"].value_counts(dropna=False).rename_axis(\"NAME\").reset_index(name='Count')\n",
    "end_casual_evening[\"Station type\"]=\"End station\"\n",
    "end_casual_evening_loc=pd.merge(end_casual_evening,station_loc,on=\"NAME\",how=\"left\")\n",
    "top50_end_casual_evening=end_casual_evening_loc.sort_values(by=[\"Count\"],ascending=False).iloc[0:50,:]"
   ]
  },
  {
   "cell_type": "code",
   "execution_count": 48,
   "metadata": {},
   "outputs": [],
   "source": [
    "#top50_start.to_csv(\"/Users/Yanaorfin/Documents/Academy/top50_start.csv\",index=False)\n"
   ]
  },
  {
   "cell_type": "markdown",
   "metadata": {},
   "source": [
    "TOP STATION LIST"
   ]
  },
  {
   "cell_type": "code",
   "execution_count": 49,
   "metadata": {},
   "outputs": [],
   "source": [
    "top100_station_list=pd.concat([top50_start,top50_end],ignore_index=True,sort=True)"
   ]
  },
  {
   "cell_type": "code",
   "execution_count": 50,
   "metadata": {},
   "outputs": [],
   "source": [
    "top100_station_list.to_csv(\"/Users/Yanaorfin/Documents/Academy/top100_station_list.csv\",index=False)"
   ]
  },
  {
   "cell_type": "markdown",
   "metadata": {},
   "source": [
    "STATION MAP"
   ]
  },
  {
   "cell_type": "markdown",
   "metadata": {},
   "source": [
    "POPULAR ROUTES"
   ]
  },
  {
   "cell_type": "code",
   "execution_count": 51,
   "metadata": {},
   "outputs": [],
   "source": [
    "popular_routes=routes_list[routes_list['Count']>=126]"
   ]
  },
  {
   "cell_type": "code",
   "execution_count": 58,
   "metadata": {},
   "outputs": [
    {
     "name": "stdout",
     "output_type": "stream",
     "text": [
      "<class 'pandas.core.frame.DataFrame'>\n",
      "RangeIndex: 17379 entries, 0 to 17378\n",
      "Data columns (total 27 columns):\n",
      " #   Column         Non-Null Count  Dtype         \n",
      "---  ------         --------------  -----         \n",
      " 0   instant        17379 non-null  int64         \n",
      " 1   dteday         17379 non-null  datetime64[ns]\n",
      " 2   season         17379 non-null  category      \n",
      " 3   yr             17379 non-null  int64         \n",
      " 4   mnth           17379 non-null  int64         \n",
      " 5   hr             17379 non-null  int64         \n",
      " 6   holiday        17379 non-null  int64         \n",
      " 7   weekday        17379 non-null  int64         \n",
      " 8   workingday     17379 non-null  int64         \n",
      " 9   weathersit     17379 non-null  int64         \n",
      " 10  temp           17379 non-null  float64       \n",
      " 11  atemp          17379 non-null  float64       \n",
      " 12  hum            17379 non-null  float64       \n",
      " 13  windspeed      17379 non-null  float64       \n",
      " 14  casual         17379 non-null  int64         \n",
      " 15  registered     17379 non-null  int64         \n",
      " 16  cnt            17379 non-null  int64         \n",
      " 17  day_time       17379 non-null  object        \n",
      " 18  is_holiday     17379 non-null  category      \n",
      " 19  tem_cel        17379 non-null  int64         \n",
      " 20  atemp_cel      17379 non-null  int64         \n",
      " 21  windspeed_     17379 non-null  int64         \n",
      " 22  day_name       17379 non-null  object        \n",
      " 23  hum_score      17379 non-null  float64       \n",
      " 24  temp_score     17379 non-null  int64         \n",
      " 25  wind_score     17379 non-null  int64         \n",
      " 26  weather_score  17379 non-null  float64       \n",
      "dtypes: category(2), datetime64[ns](1), float64(6), int64(16), object(2)\n",
      "memory usage: 3.3+ MB\n"
     ]
    }
   ],
   "source": [
    "hour.info()"
   ]
  },
  {
   "cell_type": "code",
   "execution_count": 62,
   "metadata": {},
   "outputs": [
    {
     "data": {
      "image/png": "[encoded data removed]",
      "text/plain": [
       "<Figure size 432x288 with 1 Axes>"
      ]
     },
     "metadata": {
      "needs_background": "light"
     },
     "output_type": "display_data"
    }
   ],
   "source": [
    "sns.regplot(data=hour,x=\"temp\",y=\"cnt\",line_kws={\"color\": \"red\"})\n",
    "plt.show()"
   ]
  },
  {
   "cell_type": "code",
   "execution_count": 92,
   "metadata": {},
   "outputs": [
    {
     "data": {
      "image/png": "[encoded data removed]",
      "text/plain": [
       "<Figure size 432x288 with 1 Axes>"
      ]
     },
     "metadata": {
      "needs_background": "light"
     },
     "output_type": "display_data"
    }
   ],
   "source": [
    "sns.regplot(data=hour,x=\"windspeed\",y=\"cnt\",line_kws={\"color\": \"red\"})\n",
    "plt.show()"
   ]
  },
  {
   "cell_type": "code",
   "execution_count": 90,
   "metadata": {},
   "outputs": [
    {
     "data": {
      "image/png": "[encoded data removed]",
      "text/plain": [
       "<Figure size 432x288 with 1 Axes>"
      ]
     },
     "metadata": {
      "needs_background": "light"
     },
     "output_type": "display_data"
    }
   ],
   "source": [
    "sns.regplot(data=hour,x=\"atemp\",y=\"cnt\",line_kws={\"color\": \"red\"})\n",
    "plt.show()"
   ]
  },
  {
   "cell_type": "code",
   "execution_count": 91,
   "metadata": {},
   "outputs": [
    {
     "data": {
      "image/png": "[encoded data removed]",
      "text/plain": [
       "<Figure size 432x288 with 1 Axes>"
      ]
     },
     "metadata": {
      "needs_background": "light"
     },
     "output_type": "display_data"
    }
   ],
   "source": [
    "sns.regplot(data=hour,x=\"hum\",y=\"cnt\",line_kws={\"color\": \"red\"})\n",
    "plt.show()"
   ]
  },
  {
   "cell_type": "markdown",
   "metadata": {},
   "source": [
    "MACHINE LEARNING\n",
    "ENCODING"
   ]
  },
  {
   "cell_type": "markdown",
   "metadata": {},
   "source": []
  },
  {
   "cell_type": "code",
   "execution_count": null,
   "metadata": {},
   "outputs": [],
   "source": [
    "SPLITING"
   ]
  },
  {
   "cell_type": "code",
   "execution_count": 82,
   "metadata": {},
   "outputs": [
    {
     "name": "stdout",
     "output_type": "stream",
     "text": [
      "(17379,)\n",
      "(17379, 3)\n"
     ]
    }
   ],
   "source": [
    "X=hour[[\"atemp\",\"hum\",\"windspeed\"]]#input\n",
    "y=hour[\"registered\"] #target\n",
    "\n",
    "print(y.shape)\n",
    "print(X.shape)"
   ]
  },
  {
   "cell_type": "code",
   "execution_count": 85,
   "metadata": {},
   "outputs": [
    {
     "name": "stdout",
     "output_type": "stream",
     "text": [
      "(13903, 3)\n",
      "(3476, 3)\n",
      "(13903,)\n",
      "(3476,)\n"
     ]
    }
   ],
   "source": [
    "X_train,X_test,y_train,y_test=train_test_split(X,y,test_size=0.2,random_state=True)\n",
    "print(X_train.shape)\n",
    "print(X_test.shape)\n",
    "print(y_train.shape)\n",
    "print(y_test.shape)"
   ]
  },
  {
   "cell_type": "code",
   "execution_count": 83,
   "metadata": {},
   "outputs": [
    {
     "data": {
      "text/plain": [
       "3"
      ]
     },
     "execution_count": 83,
     "metadata": {},
     "output_type": "execute_result"
    }
   ],
   "source": [
    "#from sklearn.model_selection import StratifiedKFold\n",
    "#Kf=StratifiedKFold(n_splits=3,shuffle=True,random_state=17379)\n",
    "#Kf.get_n_splits(X)"
   ]
  },
  {
   "cell_type": "code",
   "execution_count": 84,
   "metadata": {},
   "outputs": [
    {
     "name": "stderr",
     "output_type": "stream",
     "text": [
      "/Users/Yanaorfin/opt/anaconda3/lib/python3.9/site-packages/sklearn/model_selection/_split.py:676: UserWarning: The least populated class in y has only 1 members, which is less than n_splits=3.\n",
      "  warnings.warn(\n"
     ]
    }
   ],
   "source": [
    "#for train_index,test_index in Kf.split(X,y):\n",
    "    #print(\"TRAIN:\",train_index,\"TEST:\",test_index)\n",
    "    #X_train, X_test = X.loc[train_index], X.loc[test_index]\n",
    "    #y_train, y_test = y.loc[train_index], y.loc[test_index]"
   ]
  },
  {
   "cell_type": "markdown",
   "metadata": {},
   "source": [
    "NORMALISATION"
   ]
  },
  {
   "cell_type": "code",
   "execution_count": 86,
   "metadata": {},
   "outputs": [],
   "source": [
    "# fit scaler on training data\n",
    "norm=MinMaxScaler().fit(X_train)\n",
    "# transform training data\n",
    "X_train_norm=norm.transform(X_train)\n",
    "# transform testing data\n",
    "X_test_norm=norm.transform(X_test)"
   ]
  },
  {
   "cell_type": "code",
   "execution_count": 87,
   "metadata": {},
   "outputs": [
    {
     "name": "stdout",
     "output_type": "stream",
     "text": [
      "[[0.2273     0.44       0.22804749]\n",
      " [0.2424     0.87       0.33337252]\n",
      " [0.6061     0.83       0.10532503]\n",
      " ...\n",
      " [0.6667     0.64       0.        ]\n",
      " [0.6061     0.83       0.26319502]\n",
      " [0.1515     0.55       0.22804749]]\n"
     ]
    }
   ],
   "source": [
    "print(X_train_norm)"
   ]
  },
  {
   "cell_type": "code",
   "execution_count": null,
   "metadata": {},
   "outputs": [],
   "source": [
    "PREDICTING"
   ]
  },
  {
   "cell_type": "code",
   "execution_count": 88,
   "metadata": {},
   "outputs": [
    {
     "data": {
      "text/plain": [
       "LinearRegression()"
      ]
     },
     "execution_count": 88,
     "metadata": {},
     "output_type": "execute_result"
    }
   ],
   "source": [
    "lr=LinearRegression()\n",
    "lr.fit(X_train_norm,y_train)"
   ]
  },
  {
   "cell_type": "code",
   "execution_count": 89,
   "metadata": {},
   "outputs": [],
   "source": [
    "pred_lr=lr.predict(X_test_norm)"
   ]
  },
  {
   "cell_type": "markdown",
   "metadata": {},
   "source": [
    "EVALUATION"
   ]
  }
 ],
 "metadata": {
  "kernelspec": {
   "display_name": "Python 3.9.12 ('base')",
   "language": "python",
   "name": "python3"
  },
  "language_info": {
   "codemirror_mode": {
    "name": "ipython",
    "version": 3
   },
   "file_extension": ".py",
   "mimetype": "text/x-python",
   "name": "python",
   "nbconvert_exporter": "python",
   "pygments_lexer": "ipython3",
   "version": "3.9.12"
  },
  "orig_nbformat": 4,
  "vscode": {
   "interpreter": {
    "hash": "4f338e99f52e5b6bee008873ae50057d4cf1f168c9cfc1cf280b04b08b9f750d"
   }
  }
 },
 "nbformat": 4,
 "nbformat_minor": 2
}
